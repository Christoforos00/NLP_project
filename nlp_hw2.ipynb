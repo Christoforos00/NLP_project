{
  "nbformat": 4,
  "nbformat_minor": 0,
  "metadata": {
    "accelerator": "GPU",
    "colab": {
      "name": "nlp_hw2.ipynb",
      "provenance": [],
      "collapsed_sections": [],
      "authorship_tag": "ABX9TyM3n+56y+qS4F/m0cuF0Hvr",
      "include_colab_link": true
    },
    "kernelspec": {
      "display_name": "Python 3",
      "name": "python3"
    },
    "language_info": {
      "name": "python"
    }
  },
  "cells": [
    {
      "cell_type": "markdown",
      "metadata": {
        "id": "view-in-github",
        "colab_type": "text"
      },
      "source": [
        "<a href=\"https://colab.research.google.com/github/Christoforos00/NLP_project/blob/main/nlp_hw2.ipynb\" target=\"_parent\"><img src=\"https://colab.research.google.com/assets/colab-badge.svg\" alt=\"Open In Colab\"/></a>"
      ]
    },
    {
      "cell_type": "code",
      "metadata": {
        "id": "c0wQBVieFj9_"
      },
      "source": [
        "import pandas as pd\n",
        "import nltk\n",
        "import numpy as np"
      ],
      "execution_count": null,
      "outputs": []
    },
    {
      "cell_type": "code",
      "metadata": {
        "colab": {
          "base_uri": "https://localhost:8080/"
        },
        "id": "yHTazHZ6FkHO",
        "outputId": "cc09a98d-c544-4dda-8cb2-0bd55658a3a9"
      },
      "source": [
        "from google.colab import drive\n",
        "drive.mount('/content/drive')"
      ],
      "execution_count": null,
      "outputs": [
        {
          "output_type": "stream",
          "text": [
            "Mounted at /content/drive\n"
          ],
          "name": "stdout"
        }
      ]
    },
    {
      "cell_type": "code",
      "metadata": {
        "id": "a2zVUr8BFkJf"
      },
      "source": [
        "df = pd.read_json('/content/drive/My Drive/News_Category_Dataset_v2.json', lines=True)"
      ],
      "execution_count": null,
      "outputs": []
    },
    {
      "cell_type": "code",
      "metadata": {
        "colab": {
          "base_uri": "https://localhost:8080/",
          "height": 419
        },
        "id": "S74nlL9DFkL2",
        "outputId": "0ab0a1ff-7978-4014-d628-c136d5dc51b5"
      },
      "source": [
        "df"
      ],
      "execution_count": null,
      "outputs": [
        {
          "output_type": "execute_result",
          "data": {
            "text/html": [
              "<div>\n",
              "<style scoped>\n",
              "    .dataframe tbody tr th:only-of-type {\n",
              "        vertical-align: middle;\n",
              "    }\n",
              "\n",
              "    .dataframe tbody tr th {\n",
              "        vertical-align: top;\n",
              "    }\n",
              "\n",
              "    .dataframe thead th {\n",
              "        text-align: right;\n",
              "    }\n",
              "</style>\n",
              "<table border=\"1\" class=\"dataframe\">\n",
              "  <thead>\n",
              "    <tr style=\"text-align: right;\">\n",
              "      <th></th>\n",
              "      <th>category</th>\n",
              "      <th>headline</th>\n",
              "      <th>authors</th>\n",
              "      <th>link</th>\n",
              "      <th>short_description</th>\n",
              "      <th>date</th>\n",
              "    </tr>\n",
              "  </thead>\n",
              "  <tbody>\n",
              "    <tr>\n",
              "      <th>0</th>\n",
              "      <td>CRIME</td>\n",
              "      <td>There Were 2 Mass Shootings In Texas Last Week...</td>\n",
              "      <td>Melissa Jeltsen</td>\n",
              "      <td>https://www.huffingtonpost.com/entry/texas-ama...</td>\n",
              "      <td>She left her husband. He killed their children...</td>\n",
              "      <td>2018-05-26</td>\n",
              "    </tr>\n",
              "    <tr>\n",
              "      <th>1</th>\n",
              "      <td>ENTERTAINMENT</td>\n",
              "      <td>Will Smith Joins Diplo And Nicky Jam For The 2...</td>\n",
              "      <td>Andy McDonald</td>\n",
              "      <td>https://www.huffingtonpost.com/entry/will-smit...</td>\n",
              "      <td>Of course it has a song.</td>\n",
              "      <td>2018-05-26</td>\n",
              "    </tr>\n",
              "    <tr>\n",
              "      <th>2</th>\n",
              "      <td>ENTERTAINMENT</td>\n",
              "      <td>Hugh Grant Marries For The First Time At Age 57</td>\n",
              "      <td>Ron Dicker</td>\n",
              "      <td>https://www.huffingtonpost.com/entry/hugh-gran...</td>\n",
              "      <td>The actor and his longtime girlfriend Anna Ebe...</td>\n",
              "      <td>2018-05-26</td>\n",
              "    </tr>\n",
              "    <tr>\n",
              "      <th>3</th>\n",
              "      <td>ENTERTAINMENT</td>\n",
              "      <td>Jim Carrey Blasts 'Castrato' Adam Schiff And D...</td>\n",
              "      <td>Ron Dicker</td>\n",
              "      <td>https://www.huffingtonpost.com/entry/jim-carre...</td>\n",
              "      <td>The actor gives Dems an ass-kicking for not fi...</td>\n",
              "      <td>2018-05-26</td>\n",
              "    </tr>\n",
              "    <tr>\n",
              "      <th>4</th>\n",
              "      <td>ENTERTAINMENT</td>\n",
              "      <td>Julianna Margulies Uses Donald Trump Poop Bags...</td>\n",
              "      <td>Ron Dicker</td>\n",
              "      <td>https://www.huffingtonpost.com/entry/julianna-...</td>\n",
              "      <td>The \"Dietland\" actress said using the bags is ...</td>\n",
              "      <td>2018-05-26</td>\n",
              "    </tr>\n",
              "    <tr>\n",
              "      <th>...</th>\n",
              "      <td>...</td>\n",
              "      <td>...</td>\n",
              "      <td>...</td>\n",
              "      <td>...</td>\n",
              "      <td>...</td>\n",
              "      <td>...</td>\n",
              "    </tr>\n",
              "    <tr>\n",
              "      <th>200848</th>\n",
              "      <td>TECH</td>\n",
              "      <td>RIM CEO Thorsten Heins' 'Significant' Plans Fo...</td>\n",
              "      <td>Reuters, Reuters</td>\n",
              "      <td>https://www.huffingtonpost.com/entry/rim-ceo-t...</td>\n",
              "      <td>Verizon Wireless and AT&amp;T are already promotin...</td>\n",
              "      <td>2012-01-28</td>\n",
              "    </tr>\n",
              "    <tr>\n",
              "      <th>200849</th>\n",
              "      <td>SPORTS</td>\n",
              "      <td>Maria Sharapova Stunned By Victoria Azarenka I...</td>\n",
              "      <td></td>\n",
              "      <td>https://www.huffingtonpost.com/entry/maria-sha...</td>\n",
              "      <td>Afterward, Azarenka, more effusive with the pr...</td>\n",
              "      <td>2012-01-28</td>\n",
              "    </tr>\n",
              "    <tr>\n",
              "      <th>200850</th>\n",
              "      <td>SPORTS</td>\n",
              "      <td>Giants Over Patriots, Jets Over Colts Among  M...</td>\n",
              "      <td></td>\n",
              "      <td>https://www.huffingtonpost.com/entry/super-bow...</td>\n",
              "      <td>Leading up to Super Bowl XLVI, the most talked...</td>\n",
              "      <td>2012-01-28</td>\n",
              "    </tr>\n",
              "    <tr>\n",
              "      <th>200851</th>\n",
              "      <td>SPORTS</td>\n",
              "      <td>Aldon Smith Arrested: 49ers Linebacker Busted ...</td>\n",
              "      <td></td>\n",
              "      <td>https://www.huffingtonpost.com/entry/aldon-smi...</td>\n",
              "      <td>CORRECTION: An earlier version of this story i...</td>\n",
              "      <td>2012-01-28</td>\n",
              "    </tr>\n",
              "    <tr>\n",
              "      <th>200852</th>\n",
              "      <td>SPORTS</td>\n",
              "      <td>Dwight Howard Rips Teammates After Magic Loss ...</td>\n",
              "      <td></td>\n",
              "      <td>https://www.huffingtonpost.com/entry/dwight-ho...</td>\n",
              "      <td>The five-time all-star center tore into his te...</td>\n",
              "      <td>2012-01-28</td>\n",
              "    </tr>\n",
              "  </tbody>\n",
              "</table>\n",
              "<p>200853 rows × 6 columns</p>\n",
              "</div>"
            ],
            "text/plain": [
              "             category  ...       date\n",
              "0               CRIME  ... 2018-05-26\n",
              "1       ENTERTAINMENT  ... 2018-05-26\n",
              "2       ENTERTAINMENT  ... 2018-05-26\n",
              "3       ENTERTAINMENT  ... 2018-05-26\n",
              "4       ENTERTAINMENT  ... 2018-05-26\n",
              "...               ...  ...        ...\n",
              "200848           TECH  ... 2012-01-28\n",
              "200849         SPORTS  ... 2012-01-28\n",
              "200850         SPORTS  ... 2012-01-28\n",
              "200851         SPORTS  ... 2012-01-28\n",
              "200852         SPORTS  ... 2012-01-28\n",
              "\n",
              "[200853 rows x 6 columns]"
            ]
          },
          "metadata": {},
          "execution_count": 4
        }
      ]
    },
    {
      "cell_type": "code",
      "metadata": {
        "id": "LRQpLq87FkOI"
      },
      "source": [
        "df = df.sample(frac=1).reset_index(drop=True)\n",
        "df = df[:100000]\n",
        "\n",
        "df['text'] = df['headline'] + \" \" + df['short_description']\n",
        "texts = df['text'].tolist() \n",
        "labels = df['category'].tolist()"
      ],
      "execution_count": null,
      "outputs": []
    },
    {
      "cell_type": "code",
      "metadata": {
        "id": "d4bjIz_rFkQG"
      },
      "source": [
        "del df"
      ],
      "execution_count": null,
      "outputs": []
    },
    {
      "cell_type": "code",
      "metadata": {
        "colab": {
          "base_uri": "https://localhost:8080/"
        },
        "id": "vZFSNq_WFkSZ",
        "outputId": "45adb6aa-2018-4212-c1ff-6b759e60baa6"
      },
      "source": [
        "\n",
        "nltk.download('wordnet')\n",
        "import re\n",
        "from nltk.stem import WordNetLemmatizer\n",
        "\n",
        "stemmer = WordNetLemmatizer()\n",
        "text_edited = []\n",
        "\n",
        "for text in texts: \n",
        "\n",
        "    # Remove all the special characters\n",
        "    text = re.sub('\\W', ' ', str(text))\n",
        "    \n",
        "    # Remove \\n\n",
        "    text = re.sub('\\s+[\\\\n\\\\r]+', '', text)\n",
        "   \n",
        "    # Remove all single characters\n",
        "    text = re.sub('\\s+[a-zA-Z]\\s+', ' ', text)\n",
        "\n",
        "    # Substitute multiple spaces with single space\n",
        "    text = re.sub(r'\\s+', ' ', text)\n",
        "\n",
        "    # Convert to lowercase\n",
        "    text = text.lower()\n",
        "\n",
        "    # Split the documents based on whitespace \n",
        "    text = text.split()\n",
        "\n",
        "    # Lemmatization\n",
        "    text = [stemmer.lemmatize(word) for word in text]\n",
        "\n",
        "    # Reconstruct the document by joining the words on each whitespace\n",
        "    text = ' '.join(text)\n",
        "\n",
        "    text_edited.append(text)\n"
      ],
      "execution_count": null,
      "outputs": [
        {
          "output_type": "stream",
          "text": [
            "[nltk_data] Downloading package wordnet to /root/nltk_data...\n",
            "[nltk_data]   Unzipping corpora/wordnet.zip.\n"
          ],
          "name": "stdout"
        }
      ]
    },
    {
      "cell_type": "code",
      "metadata": {
        "id": "BCp7vhqoFkUO"
      },
      "source": [
        "from sklearn.model_selection import train_test_split  \n",
        "\n",
        "X_train, X_test, y_train, y_test = train_test_split(text_edited, labels, test_size=0.2, random_state=101)"
      ],
      "execution_count": null,
      "outputs": []
    },
    {
      "cell_type": "code",
      "metadata": {
        "colab": {
          "base_uri": "https://localhost:8080/"
        },
        "id": "XZOJhmizNfyw",
        "outputId": "67ef6785-79b6-4d73-a64e-2c9f347af431"
      },
      "source": [
        "from sklearn.feature_extraction.text import TfidfVectorizer\n",
        "\n",
        "# Exclude stopwords\n",
        "nltk.download('stopwords')\n",
        "from nltk.corpus import stopwords\n",
        "\n",
        "# Vectorize the text\n",
        "vectorizer = TfidfVectorizer(\n",
        "    ngram_range=(1, 2),  # Use unigram & bi-gram tf*idf features\n",
        "    max_features = 5000,  # Keep top 5000 features \n",
        "    sublinear_tf=True,  # Replace tf with 1 + log(tf)\n",
        "    stop_words=stopwords.words('english'))  # Remove stopwords\n",
        "\n",
        "# Fit Vectorizer on train data\n",
        "# Transform on all data\n",
        "X_train = vectorizer.fit_transform(X_train) \n",
        "X_test = vectorizer.transform(X_test)\n",
        "\n",
        "print(vectorizer.get_feature_names())"
      ],
      "execution_count": null,
      "outputs": [
        {
          "output_type": "stream",
          "text": [
            "[nltk_data] Downloading package stopwords to /root/nltk_data...\n",
            "[nltk_data]   Unzipping corpora/stopwords.zip.\n",
            "['000', '000 people', '10', '10 000', '10 best', '10 thing', '10 way', '10 year', '100', '100 000', '100 percent', '11', '11 year', '12', '12 year', '13', '14', '15', '15 year', '150', '16', '16 year', '17', '17 year', '18', '18 year', '19', '20', '20 year', '200', '2007', '2008', '2009', '2010', '2011', '2012', '2013', '2014', '2015', '2016', '2017', '2018', '21', '21st', '21st century', '22', '23', '24', '24 wall', '25', '25 year', '26', '27', '28', '29', '30', '30 year', '300', '31', '32', '33', '35', '36', '38', '40', '40 year', '400', '43', '45', '48', '4th', '50', '50 year', '500', '60', '65', '70', '75', '80', '90', '99', 'aaron', 'abandoned', 'abc', 'ability', 'able', 'abortion', 'abroad', 'absolutely', 'abuse', 'academic', 'academy', 'accept', 'acceptance', 'accepted', 'accepting', 'access', 'accessory', 'accident', 'accidentally', 'accomplish', 'according', 'according new', 'account', 'accountable', 'accurate', 'accusation', 'accused', 'accuser', 'accuses', 'achieve', 'achievement', 'acknowledge', 'across', 'across country', 'act', 'acting', 'action', 'active', 'activism', 'activist', 'activity', 'actor', 'actress', 'actual', 'actually', 'ad', 'adam', 'add', 'added', 'addicted', 'addiction', 'adding', 'addition', 'additional', 'address', 'adele', 'adhd', 'administration', 'admit', 'admits', 'admitted', 'adopt', 'adopted', 'adoption', 'adorable', 'adult', 'advance', 'advanced', 'advantage', 'adventure', 'advertising', 'advice', 'adviser', 'advocacy', 'advocate', 'affair', 'affect', 'affected', 'afford', 'affordable', 'affordable care', 'afghan', 'afghanistan', 'afraid', 'africa', 'african', 'african american', 'aftermath', 'afternoon', 'age', 'aged', 'agency', 'agenda', 'agent', 'aggressive', 'aging', 'ago', 'agree', 'agreed', 'agreement', 'ahead', 'aid', 'aide', 'aim', 'aimed', 'air', 'airline', 'airplane', 'airport', 'aisle', 'al', 'alabama', 'alan', 'alaska', 'album', 'alcohol', 'alec', 'aleppo', 'alert', 'alex', 'alexander', 'ali', 'alien', 'alike', 'alive', 'allegation', 'alleged', 'allegedly', 'allen', 'allergy', 'allow', 'allowed', 'allowing', 'allows', 'ally', 'almost', 'alone', 'along', 'already', 'also', 'alternative', 'although', 'always', 'alzheimer', 'amanda', 'amazing', 'amazon', 'ambassador', 'amber', 'amendment', 'america', 'american', 'amid', 'among', 'amount', 'amy', 'amy schumer', 'analysis', 'anchor', 'ancient', 'anderson', 'andrew', 'andy', 'angel', 'angela', 'angeles', 'angelina', 'angelina jolie', 'anger', 'angry', 'animal', 'animal photo', 'animated', 'ann', 'anna', 'anne', 'anniversary', 'announce', 'announced', 'announcement', 'announces', 'annoying', 'annual', 'anonymous', 'another', 'answer', 'anthem', 'anthony', 'anti', 'anti gay', 'antibiotic', 'anxiety', 'anxious', 'anymore', 'anyone', 'anything', 'anyway', 'anywhere', 'ap', 'apart', 'apartment', 'apologize', 'apologizes', 'apology', 'app', 'apparent', 'apparently', 'appeal', 'appear', 'appearance', 'appeared', 'appears', 'apple', 'application', 'apply', 'appointment', 'appreciate', 'appreciation', 'approach', 'approaching', 'appropriate', 'approval', 'approved', 'approves', 'apps', 'april', 'arab', 'arabia', 'architecture', 'arctic', 'area', 'argue', 'argument', 'arianna', 'arizona', 'arkansas', 'arm', 'armed', 'army', 'around', 'around world', 'arrest', 'arrested', 'arrive', 'arrived', 'art', 'article', 'artist', 'artistic', 'ashamed', 'ashley', 'asia', 'asian', 'asian american', 'aside', 'ask', 'asked', 'asking', 'asks', 'asleep', 'aspect', 'assault', 'assistance', 'associated', 'association', 'assume', 'astronaut', 'athlete', 'atlanta', 'atlantic', 'attack', 'attacked', 'attempt', 'attend', 'attendant', 'attended', 'attending', 'attention', 'attitude', 'attorney', 'attorney general', 'attract', 'attraction', 'auction', 'audience', 'audio', 'august', 'austin', 'australia', 'australian', 'authentic', 'author', 'authority', 'autism', 'autumn', 'available', 'average', 'avoid', 'avoiding', 'award', 'aware', 'awareness', 'away', 'awesome', 'awful', 'awkward', 'baby', 'baby girl', 'baby name', 'bachelor', 'bachelorette', 'back', 'back school', 'backed', 'background', 'backlash', 'backyard', 'bacon', 'bacteria', 'bad', 'bag', 'baking', 'balance', 'baldwin', 'ball', 'ballet', 'ballot', 'baltimore', 'ban', 'banana', 'band', 'bang', 'bank', 'banned', 'bannon', 'bar', 'barack', 'barack obama', 'barbara', 'barbecue', 'barbie', 'barely', 'barrier', 'base', 'baseball', 'based', 'basic', 'basically', 'basis', 'basketball', 'bath', 'bathroom', 'batman', 'battle', 'bay', 'bbq', 'beach', 'bean', 'bear', 'beast', 'beat', 'beating', 'beautiful', 'beauty', 'became', 'beckham', 'become', 'becomes', 'becoming', 'bed', 'bedroom', 'bee', 'beef', 'beer', 'began', 'begin', 'beginning', 'begun', 'behavior', 'behind', 'behind scene', 'behold', 'beijing', 'belief', 'believe', 'believed', 'believing', 'bell', 'belly', 'beloved', 'belt', 'ben', 'ben carson', 'beneath', 'benefit', 'benghazi', 'berlin', 'bernie', 'bernie sander', 'berry', 'besides', 'best', 'best dressed', 'best friend', 'best thing', 'best way', 'best worst', 'bet', 'betsy', 'better', 'better way', 'beyonce', 'beyoncé', 'beyond', 'bias', 'bible', 'bid', 'biden', 'bieber', 'big', 'big day', 'big deal', 'bigger', 'biggest', 'bike', 'bikini', 'bill', 'bill clinton', 'bill cosby', 'bill maher', 'bill reilly', 'bill would', 'billboard', 'billion', 'billionaire', 'billy', 'bin', 'binge', 'bipartisan', 'bird', 'birth', 'birth control', 'birthday', 'bisexual', 'bit', 'bite', 'bizarre', 'black', 'black friday', 'black life', 'black panther', 'black people', 'black white', 'black woman', 'blake', 'blame', 'blamed', 'blast', 'blended', 'blended family', 'blessing', 'blind', 'bliss', 'block', 'blog', 'blogger', 'blonde', 'blood', 'bloomberg', 'blow', 'blowing', 'blue', 'board', 'boat', 'bob', 'body', 'boehner', 'bold', 'bomb', 'bombing', 'bond', 'bone', 'book', 'boom', 'boomer', 'boost', 'boot', 'border', 'boring', 'born', 'bos', 'boston', 'bottle', 'bottom', 'bottom line', 'bought', 'bound', 'boundary', 'bow', 'bowl', 'box', 'box office', 'boy', 'boycott', 'boyfriend', 'bra', 'brad', 'brady', 'brain', 'brand', 'brave', 'brazil', 'bread', 'break', 'breakfast', 'breaking', 'breakup', 'breast', 'breast cancer', 'breastfeeding', 'breath', 'breathe', 'breathing', 'breathtaking', 'brexit', 'brian', 'bridal', 'bride', 'bridesmaid', 'bridge', 'brief', 'bright', 'brighten', 'brilliant', 'bring', 'bringing', 'brings', 'britain', 'british', 'britney', 'britney spear', 'broadcast', 'broadway', 'broke', 'broken', 'brooklyn', 'brother', 'brought', 'brown', 'bruce', 'brussels', 'brutal', 'bubble', 'bucket', 'bucket list', 'buddy', 'budget', 'bug', 'build', 'building', 'built', 'bull', 'bullet', 'bully', 'bullying', 'bump', 'bunch', 'burden', 'bureau', 'burger', 'burn', 'burning', 'bus', 'bush', 'business', 'busy', 'butt', 'butter', 'button', 'buy', 'buyer', 'buying', 'bye', 'cabinet', 'cable', 'caitlyn', 'caitlyn jenner', 'cake', 'calendar', 'california', 'call', 'called', 'calling', 'calm', 'calorie', 'came', 'camera', 'cameron', 'camp', 'campaign', 'campus', 'canada', 'canadian', 'cancel', 'canceled', 'cancer', 'cancer patient', 'candidate', 'candle', 'candy', 'cannes', 'cannot', 'cap', 'capable', 'capacity', 'capital', 'capitol', 'captain', 'capture', 'captured', 'car', 'carbon', 'card', 'care', 'care act', 'care bill', 'career', 'carefully', 'caregiver', 'carey', 'caribbean', 'caring', 'carolina', 'carpet', 'carrie', 'carried', 'carry', 'carrying', 'carson', 'carter', 'cartoon', 'case', 'cash', 'cast', 'castle', 'cat', 'catch', 'catching', 'category', 'catholic', 'caucus', 'caught', 'cause', 'caused', 'causing', 'cbs', 'cdc', 'ceiling', 'celeb', 'celebrate', 'celebrated', 'celebrates', 'celebrating', 'celebration', 'celebrity', 'celebs', 'cell', 'cell phone', 'center', 'central', 'century', 'ceo', 'ceremony', 'certain', 'certainly', 'chain', 'chair', 'chairman', 'challenge', 'challenging', 'champagne', 'champion', 'championship', 'chance', 'chanel', 'change', 'change life', 'changed', 'changing', 'channel', 'chaos', 'chapter', 'character', 'charge', 'charged', 'charity', 'charles', 'charleston', 'charlie', 'charlotte', 'charlottesville', 'charm', 'charming', 'chart', 'charter', 'chase', 'chat', 'cheap', 'cheaper', 'cheat', 'cheating', 'check', 'check huffpost', 'check stylelist', 'checking', 'cheeky', 'cheer', 'cheese', 'chef', 'chelsea', 'chemical', 'chic', 'chicago', 'chicken', 'chief', 'child', 'childhood', 'chill', 'china', 'chinese', 'chip', 'chocolate', 'choice', 'choose', 'choosing', 'chose', 'chosen', 'chris', 'chris christie', 'chrissy', 'chrissy teigen', 'christian', 'christie', 'christina', 'christmas', 'christopher', 'chronic', 'chuck', 'church', 'cia', 'cigarette', 'circle', 'circumstance', 'citizen', 'city', 'civil', 'civil right', 'civil war', 'civilian', 'claim', 'claimed', 'claiming', 'claire', 'clash', 'class', 'classic', 'classroom', 'clean', 'cleaning', 'clear', 'clearly', 'cleveland', 'clever', 'click', 'click slideshow', 'client', 'cliff', 'climate', 'climate change', 'clinic', 'clinton', 'clip', 'clock', 'close', 'closed', 'closely', 'closer', 'closet', 'closing', 'clothes', 'clothing', 'cloud', 'club', 'cnn', 'co', 'co founder', 'coach', 'coal', 'coalition', 'coast', 'coat', 'cocktail', 'coconut', 'code', 'coffee', 'cognitive', 'cohen', 'colbert', 'cold', 'colin', 'collaboration', 'collapse', 'colleague', 'collection', 'collective', 'college', 'college student', 'colombia', 'color', 'colorado', 'colorful', 'column', 'com', 'combat', 'combination', 'come', 'come true', 'comeback', 'comedian', 'comedy', 'comey', 'comfort', 'comfortable', 'comic', 'coming', 'comment', 'commercial', 'commission', 'commit', 'commitment', 'committed', 'committee', 'common', 'communication', 'community', 'company', 'compare', 'compared', 'compassion', 'competition', 'competitive', 'complaint', 'complete', 'completely', 'complex', 'complicated', 'computer', 'con', 'conan', 'concept', 'concern', 'concerned', 'concert', 'condition', 'conducted', 'confederate', 'conference', 'confession', 'confidence', 'confident', 'confirm', 'confirmation', 'confirmed', 'confirms', 'conflict', 'confused', 'confusing', 'confusion', 'congress', 'congressional', 'congressman', 'connect', 'connected', 'connected sometimes', 'connecticut', 'connection', 'conscious', 'consciousness', 'consequence', 'conservative', 'consider', 'considered', 'considering', 'consistent', 'conspiracy', 'conspiracy theory', 'constant', 'constantly', 'constantly connected', 'constitution', 'constitutional', 'consumer', 'consumption', 'contact', 'contain', 'contemporary', 'content', 'contest', 'contestant', 'context', 'continue', 'continued', 'continues', 'continuing', 'contract', 'contribute', 'contribution', 'control', 'controversial', 'controversy', 'convention', 'conventional', 'conversation', 'convicted', 'conviction', 'convince', 'convinced', 'conway', 'cook', 'cookie', 'cooking', 'cooky', 'cool', 'coolest', 'cooper', 'cop', 'cope', 'corden', 'core', 'corn', 'corner', 'corporate', 'corporation', 'correct', 'correspondent', 'corruption', 'cosby', 'cost', 'costa', 'costume', 'couch', 'could', 'could help', 'could make', 'council', 'counsel', 'count', 'counter', 'counting', 'countless', 'country', 'county', 'couple', 'courage', 'course', 'course gps', 'court', 'courtesy', 'cover', 'coverage', 'covered', 'covering', 'cox', 'cozy', 'crack', 'craft', 'craft day', 'crash', 'craving', 'crazy', 'cream', 'create', 'created', 'creates', 'creating', 'creation', 'creative', 'creativity', 'creator', 'creature', 'credit', 'credit card', 'creepy', 'crew', 'crime', 'criminal', 'criminal justice', 'crisis', 'critic', 'critical', 'criticism', 'criticized', 'crop', 'cross', 'crowd', 'crucial', 'cruise', 'crush', 'cruz', 'cry', 'cuba', 'cuban', 'cuisine', 'culinary', 'cultural', 'culture', 'cup', 'cupcake', 'curb', 'cure', 'curiosity', 'curious', 'current', 'currently', 'curry', 'custody', 'custom', 'customer', 'cut', 'cute', 'cute kid', 'cutest', 'cutting', 'cyber', 'cycle', 'cyrus', 'daca', 'dad', 'daddy', 'daily', 'daily meditation', 'daily show', 'dakota', 'dallas', 'damage', 'damn', 'dan', 'dance', 'dancer', 'dancing', 'danger', 'dangerous', 'daniel', 'dare', 'dark', 'data', 'date', 'dating', 'daughter', 'dave', 'david', 'davis', 'day', 'day day', 'day gift', 'day one', 'day photo', 'day wa', 'day year', 'de', 'dead', 'deadline', 'deadly', 'deal', 'dealing', 'dear', 'death', 'debate', 'debt', 'debut', 'dec', 'decade', 'december', 'decide', 'decided', 'decision', 'declared', 'decline', 'decor', 'decorating', 'dedicated', 'deep', 'deeper', 'deeply', 'defeat', 'defend', 'defends', 'defense', 'define', 'defined', 'definitely', 'definition', 'degree', 'delay', 'delegate', 'delicious', 'delight', 'deliver', 'delivered', 'delivers', 'delivery', 'demand', 'demanding', 'demi', 'democracy', 'democrat', 'democratic', 'democratic party', 'denial', 'denied', 'denies', 'deny', 'department', 'depends', 'deportation', 'depressed', 'depression', 'depth', 'deputy', 'describe', 'described', 'describes', 'desert', 'deserve', 'deserves', 'design', 'designed', 'designer', 'desire', 'desk', 'despair', 'desperate', 'desperately', 'despite', 'dessert', 'destination', 'destroy', 'destruction', 'detail', 'detention', 'determine', 'determined', 'detroit', 'devastating', 'develop', 'developed', 'developing', 'development', 'device', 'devos', 'diabetes', 'diagnosed', 'diagnosis', 'dialogue', 'diamond', 'diary', 'dick', 'die', 'died', 'diego', 'diet', 'difference', 'different', 'differently', 'difficult', 'dig', 'digital', 'dignity', 'dilemma', 'dining', 'dinner', 'dinosaur', 'dip', 'direct', 'directed', 'direction', 'directly', 'director', 'dirty', 'disability', 'disagree', 'disaster', 'discipline', 'disclosure', 'discover', 'discovered', 'discovery', 'discrimination', 'discus', 'discussed', 'discussion', 'disease', 'dish', 'disney', 'disney world', 'disorder', 'display', 'dispute', 'distance', 'distraction', 'district', 'disturbing', 'ditch', 'diverse', 'diversity', 'divide', 'divided', 'division', 'divorce', 'divorce facebook', 'divorced', 'diy', 'dj', 'dnc', 'doctor', 'document', 'documentary', 'doe', 'doe mean', 'dog', 'doj', 'doll', 'dollar', 'domestic', 'domestic violence', 'donald', 'donald trump', 'donate', 'donation', 'done', 'donna', 'donor', 'door', 'dose', 'double', 'doubt', 'dozen', 'dr', 'draft', 'drag', 'drag race', 'drake', 'drama', 'dramatic', 'draw', 'drawing', 'drawn', 'dream', 'dreamer', 'dreaming', 'dress', 'dressed', 'dressing', 'drew', 'drilling', 'drink', 'drinking', 'drive', 'driven', 'driver', 'driving', 'drone', 'drop', 'dropped', 'dropping', 'drought', 'drove', 'drug', 'drunk', 'dry', 'duck', 'dude', 'due', 'dunham', 'duo', 'dust', 'duty', 'dy', 'dying', 'eagle', 'ear', 'earlier', 'early', 'earn', 'earned', 'earth', 'earthquake', 'ease', 'easier', 'easily', 'east', 'easter', 'eastern', 'easy', 'easy way', 'eat', 'eating', 'eating disorder', 'eats', 'ebay', 'ebay vintage', 'ebola', 'eco', 'economic', 'economy', 'ed', 'edge', 'edition', 'editor', 'editorial', 'education', 'educational', 'educator', 'edward', 'effect', 'effective', 'effectively', 'effort', 'egg', 'ego', 'egypt', 'eight', 'either', 'el', 'elderly', 'elect', 'elected', 'election', 'electoral', 'electric', 'electronic', 'elegant', 'element', 'elementary', 'elephant', 'eliminate', 'elite', 'elizabeth', 'elizabeth warren', 'elle', 'ellen', 'else', 'em', 'email', 'embarrassing', 'embrace', 'embracing', 'emerge', 'emergency', 'emerging', 'emily', 'emission', 'emma', 'emmy', 'emotion', 'emotional', 'emotionally', 'empathy', 'empire', 'employee', 'employer', 'employment', 'empowering', 'empty', 'encounter', 'encourage', 'encouraged', 'end', 'endangered', 'ended', 'ending', 'endless', 'endorse', 'endorsement', 'endorses', 'enemy', 'energy', 'enforcement', 'engage', 'engaged', 'engagement', 'england', 'english', 'enjoy', 'enjoying', 'enormous', 'enough', 'ensure', 'enter', 'entered', 'entertaining', 'entertainment', 'entire', 'entirely', 'entrepreneur', 'entry', 'environment', 'environmental', 'epa', 'epic', 'epidemic', 'episode', 'equal', 'equality', 'equally', 'era', 'erdogan', 'eric', 'error', 'escape', 'especially', 'espn', 'essay', 'essence', 'essential', 'essentially', 'established', 'establishment', 'estate', 'estimated', 'ethic', 'etiquette', 'eu', 'europe', 'european', 'eve', 'even', 'even though', 'evening', 'event', 'eventually', 'ever', 'every', 'every day', 'every single', 'every time', 'every year', 'everybody', 'everyday', 'everyone', 'everyone else', 'everyone ha', 'everything', 'everything need', 'everywhere', 'evidence', 'evil', 'evolution', 'ex', 'exact', 'exactly', 'example', 'excellent', 'except', 'exchange', 'excited', 'excitement', 'exciting', 'exclusive', 'excuse', 'execution', 'executive', 'executive order', 'exercise', 'exhibit', 'exhibition', 'exist', 'existence', 'existing', 'exists', 'exit', 'exotic', 'expand', 'expanding', 'expect', 'expectation', 'expected', 'expecting', 'expensive', 'experience', 'experienced', 'experiencing', 'experiment', 'expert', 'expert say', 'explain', 'explained', 'explains', 'explore', 'explores', 'exploring', 'explosion', 'expose', 'exposed', 'exposure', 'express', 'expression', 'extended', 'extra', 'extraordinary', 'extreme', 'extremely', 'eye', 'fabric', 'fabulous', 'face', 'facebook', 'facebook pinterest', 'facebook tumblr', 'facebook twitter', 'faced', 'facility', 'facing', 'fact', 'factor', 'fail', 'failed', 'failing', 'fails', 'failure', 'fair', 'fairy', 'faith', 'fake', 'fake news', 'fall', 'fall 2012', 'fallen', 'falling', 'fallon', 'false', 'fame', 'familiar', 'family', 'family member', 'famous', 'fan', 'fancy', 'fantastic', 'fantasy', 'far', 'fare', 'farewell', 'farm', 'farmer', 'fascinating', 'fashion', 'fashion week', 'fast', 'fast food', 'faster', 'fastest', 'fat', 'fatal', 'fatally', 'fate', 'father', 'father day', 'fault', 'favor', 'favorite', 'fbi', 'fbi director', 'fda', 'fear', 'fearless', 'feast', 'feature', 'featured', 'featuring', 'feb', 'february', 'fed', 'federal', 'federal government', 'fee', 'feed', 'feeding', 'feel', 'feel good', 'feel like', 'feeling', 'fell', 'fellow', 'felt', 'felt like', 'female', 'feminism', 'feminist', 'ferguson', 'festival', 'feud', 'fewer', 'fiction', 'field', 'fierce', 'fifth', 'fifty', 'fight', 'fighter', 'fighting', 'figure', 'figured', 'file', 'filed', 'fill', 'filled', 'film', 'film festival', 'filming', 'filmmaker', 'final', 'finale', 'finally', 'finance', 'financial', 'find', 'find photo', 'find way', 'finding', 'fine', 'finger', 'finish', 'fire', 'fired', 'firefighter', 'firing', 'firm', 'first', 'first day', 'first ever', 'first lady', 'first look', 'first place', 'first step', 'first time', 'fish', 'fit', 'fitness', 'five', 'five year', 'fix', 'flag', 'flame', 'flash', 'flat', 'flavor', 'flight', 'flight attendant', 'flint', 'flip', 'flood', 'floor', 'flop', 'florida', 'flow', 'flower', 'flu', 'fly', 'flying', 'flynn', 'focus', 'focused', 'focusing', 'folk', 'follow', 'followed', 'follower', 'following', 'follows', 'food', 'fool', 'foot', 'footage', 'football', 'football player', 'force', 'forced', 'ford', 'foreign', 'foreign policy', 'forest', 'forever', 'forget', 'forgive', 'forgiveness', 'forgotten', 'form', 'former', 'formula', 'fortune', 'forum', 'forward', 'fossil', 'fossil fuel', 'foster', 'fought', 'found', 'foundation', 'founder', 'four', 'four year', 'fourth', 'fourth july', 'fox', 'fox news', 'france', 'franchise', 'francis', 'francisco', 'frank', 'fraud', 'freak', 'free', 'freedom', 'french', 'frequent', 'frequently', 'fresh', 'friday', 'fried', 'friend', 'friend family', 'friendly', 'friendship', 'front', 'frozen', 'fruit', 'frustrated', 'frustration', 'fry', 'fuel', 'full', 'fully', 'fun', 'function', 'fund', 'fundamental', 'funding', 'funeral', 'funniest', 'funniest tweet', 'funny', 'fur', 'furniture', 'future', 'gaga', 'gain', 'gained', 'gala', 'gallery', 'game', 'game throne', 'gang', 'gap', 'garden', 'garner', 'gas', 'gate', 'gather', 'gathered', 'gathering', 'gave', 'gay', 'gay marriage', 'gay men', 'gaza', 'gear', 'gender', 'gene', 'general', 'generally', 'generation', 'genetic', 'genius', 'george', 'george bush', 'georgia', 'german', 'germany', 'get', 'get back', 'get better', 'get ready', 'get rid', 'getaway', 'getting', 'getting married', 'getty', 'ghost', 'giant', 'gifs', 'gift', 'girl', 'girlfriend', 'give', 'given', 'giving', 'glad', 'glass', 'glimpse', 'global', 'global warming', 'globe', 'glorious', 'glory', 'gluten', 'gluten free', 'go', 'go back', 'goal', 'god', 'going', 'gold', 'golden', 'golden globe', 'golf', 'gomez', 'gone', 'gonna', 'good', 'good news', 'good thing', 'good time', 'goodbye', 'google', 'gop', 'gop candidate', 'gop nominee', 'gop senator', 'gorgeous', 'got', 'gotten', 'gov', 'government', 'governor', 'gown', 'gps', 'gps guide', 'grab', 'grace', 'grade', 'graduate', 'graduation', 'graham', 'grain', 'grammy', 'grammys', 'grand', 'grandma', 'grandmother', 'grandparent', 'grant', 'granted', 'graphic', 'grateful', 'gratitude', 'gray', 'great', 'greater', 'greatest', 'greece', 'greek', 'green', 'greg', 'grew', 'grey', 'grief', 'grieving', 'grill', 'grilled', 'grocery', 'groom', 'gross', 'ground', 'group', 'grow', 'growing', 'grown', 'grows', 'growth', 'guarantee', 'guard', 'guess', 'guest', 'guide', 'guideline', 'guilt', 'guilty', 'gulf', 'gun', 'gun control', 'gun violence', 'gunman', 'gut', 'guy', 'gwyneth', 'gwyneth paltrow', 'gym', 'ha', 'ha already', 'ha always', 'ha become', 'ha changed', 'ha come', 'ha long', 'ha made', 'ha never', 'ha one', 'ha taken', 'habit', 'hack', 'hacker', 'hair', 'hairstyle', 'half', 'hall', 'halloween', 'halloween costume', 'halt', 'hamilton', 'hampshire', 'hand', 'handed', 'handle', 'handling', 'hang', 'hanging', 'happen', 'happened', 'happening', 'happens', 'happier', 'happily', 'happiness', 'happy', 'happy birthday', 'harassment', 'hard', 'hard work', 'harder', 'hardest', 'hardly', 'harm', 'harmful', 'harris', 'harry', 'harry potter', 'harsh', 'harvard', 'harvey', 'harvey weinstein', 'hat', 'hate', 'hater', 'hatred', 'hawaii', 'hbo', 'head', 'headed', 'heading', 'headline', 'heal', 'healing', 'health', 'health care', 'health insurance', 'healthcare', 'healthier', 'healthy', 'hear', 'heard', 'hearing', 'heart', 'heart attack', 'heart disease', 'heartbreaking', 'heat', 'heaven', 'heavy', 'heel', 'height', 'held', 'helicopter', 'hell', 'hello', 'help', 'help get', 'help start', 'helped', 'helpful', 'helping', 'henry', 'heritage', 'hero', 'heroin', 'hey', 'hidden', 'hide', 'hiding', 'high', 'high school', 'higher', 'highest', 'highlight', 'highly', 'highway', 'hike', 'hilarious', 'hilariously', 'hill', 'hillary', 'hillary clinton', 'hint', 'hip', 'hip hop', 'hire', 'hiring', 'hispanic', 'historic', 'historical', 'history', 'hit', 'hitting', 'hiv', 'hockey', 'hold', 'holder', 'holding', 'hole', 'holiday', 'holiday season', 'hollywood', 'holmes', 'holocaust', 'holy', 'home', 'home find', 'home twitter', 'homeland', 'homeless', 'homemade', 'honest', 'honey', 'honeymoon', 'hong', 'hong kong', 'honor', 'honored', 'honoring', 'hook', 'hop', 'hope', 'hopeful', 'hopefully', 'hoping', 'hormone', 'horrible', 'horrific', 'horror', 'horse', 'hospital', 'host', 'hosted', 'hot', 'hotel', 'hottest', 'hour', 'house', 'house republican', 'household', 'housing', 'houston', 'however', 'huckabee', 'hudson', 'huffington', 'huffington post', 'huffingtonpost', 'huffingtonpost com', 'huffpollster', 'huffpost', 'huffpost divorce', 'huffpost hill', 'huffpost live', 'huffpost rise', 'huffpost style', 'huffpost wedding', 'huffpoststyle', 'hug', 'huge', 'human', 'human right', 'humanitarian', 'humanity', 'humor', 'hundred', 'hunger', 'hungry', 'hunt', 'hunter', 'hunting', 'hurricane', 'hurricane sandy', 'hurt', 'hurting', 'husband', 'ice', 'ice cream', 'icon', 'iconic', 'idea', 'ideal', 'identified', 'identify', 'identity', 'idol', 'ignorance', 'ignore', 'ignored', 'ignoring', 'ii', 'ill', 'illegal', 'illinois', 'illness', 'image', 'imagination', 'imagine', 'imagined', 'immediate', 'immediately', 'immigrant', 'immigration', 'immune', 'impact', 'importance', 'important', 'importantly', 'impossible', 'impression', 'impressive', 'improve', 'improved', 'improvement', 'improving', 'inappropriate', 'inauguration', 'inc', 'inch', 'incident', 'include', 'included', 'includes', 'including', 'inclusive', 'income', 'increase', 'increased', 'increasing', 'increasingly', 'incredible', 'incredibly', 'indeed', 'independence', 'independent', 'india', 'indian', 'indiana', 'individual', 'industry', 'inequality', 'inevitable', 'infant', 'infection', 'infidelity', 'influence', 'infographic', 'information', 'infrastructure', 'ingredient', 'initiative', 'injured', 'injury', 'injustice', 'inmate', 'inner', 'innocent', 'innovation', 'innovative', 'insane', 'inside', 'insider', 'insight', 'inspiration', 'inspire', 'inspired', 'inspiring', 'instagram', 'instagram huffpoststyle', 'instance', 'instant', 'instead', 'institute', 'institution', 'insult', 'insurance', 'intelligence', 'intended', 'intense', 'intention', 'interaction', 'interest', 'interested', 'interesting', 'interior', 'internal', 'international', 'internet', 'intervention', 'interview', 'intimate', 'introduced', 'invest', 'investigate', 'investigating', 'investigation', 'investigator', 'investing', 'investment', 'investor', 'invisible', 'invitation', 'invite', 'invited', 'involve', 'involved', 'involves', 'iowa', 'ipad', 'iphone', 'iran', 'iranian', 'iraq', 'iraqi', 'ireland', 'irish', 'iron', 'irs', 'isi', 'islam', 'islamic', 'islamic state', 'island', 'israel', 'israeli', 'issue', 'issued', 'italian', 'italy', 'item', 'ivanka', 'ivanka trump', 'jack', 'jacket', 'jackie', 'jackson', 'jacob', 'jail', 'jam', 'james', 'james comey', 'james corden', 'jamie', 'jan', 'jane', 'january', 'japan', 'japanese', 'jar', 'jared', 'jason', 'jay', 'jazz', 'jean', 'jeb', 'jeb bush', 'jeff', 'jeff session', 'jenner', 'jennifer', 'jennifer lawrence', 'jennifer lopez', 'jerry', 'jersey', 'jerusalem', 'jessica', 'jesus', 'jet', 'jew', 'jewelry', 'jewish', 'jim', 'jimmy', 'jimmy fallon', 'jimmy kimmel', 'joan', 'job', 'joe', 'joe biden', 'john', 'john kasich', 'john mccain', 'john oliver', 'johnny', 'johnson', 'join', 'joined', 'joining', 'joint', 'joke', 'jolie', 'jon', 'jon stewart', 'jones', 'jong', 'jong un', 'jordan', 'joseph', 'josh', 'journal', 'journalism', 'journalist', 'journey', 'joy', 'jr', 'judge', 'judgment', 'juice', 'july', 'jump', 'june', 'junk', 'jury', 'justice', 'justice department', 'justin', 'justin bieber', 'justin timberlake', 'kansa', 'kanye', 'kanye west', 'kardashian', 'kasich', 'kate', 'kate middleton', 'katie', 'katy', 'katy perry', 'keep', 'keep touch', 'keeping', 'keith', 'kelly', 'kellyanne', 'kellyanne conway', 'ken', 'kendall', 'kendall jenner', 'kennedy', 'kentucky', 'kenya', 'kept', 'kerry', 'kevin', 'key', 'keystone', 'khan', 'khloe', 'kick', 'kicked', 'kid', 'kid note', 'kidney', 'kill', 'killed', 'killer', 'killing', 'kim', 'kim jong', 'kim kardashian', 'kimmel', 'kind', 'kindness', 'king', 'kiss', 'kit', 'kitchen', 'knee', 'knew', 'knife', 'knot', 'know', 'knowing', 'knowledge', 'known', 'koch', 'kong', 'korea', 'korean', 'kris', 'kristen', 'kushner', 'kylie', 'kylie jenner', 'la', 'la vega', 'label', 'labor', 'labor day', 'lack', 'lady', 'lady gaga', 'laid', 'lake', 'lamar', 'land', 'landmark', 'landscape', 'language', 'large', 'largely', 'larger', 'largest', 'larry', 'last', 'last minute', 'last month', 'last night', 'last time', 'last week', 'last year', 'lasting', 'late', 'late night', 'late show', 'lately', 'later', 'latest', 'latin', 'latino', 'laugh', 'laughing', 'launch', 'launched', 'launching', 'laura', 'lauren', 'law', 'law enforcement', 'lawmaker', 'lawrence', 'lawsuit', 'lawyer', 'lay', 'layer', 'lazy', 'le', 'lead', 'leader', 'leadership', 'leading', 'leaf', 'league', 'leak', 'leaked', 'lean', 'leap', 'learn', 'learned', 'learning', 'least', 'least one', 'leather', 'leave', 'leaving', 'lebron', 'led', 'lee', 'left', 'leftover', 'leg', 'legacy', 'legal', 'legend', 'legendary', 'legislation', 'lego', 'lemon', 'lena', 'lena dunham', 'lesbian', 'lesson', 'lesson learned', 'let', 'let face', 'let go', 'let know', 'letter', 'letting', 'letting go', 'level', 'lewis', 'lgbt', 'lgbtq', 'liberal', 'liberty', 'library', 'license', 'lie', 'life', 'life lesson', 'life matter', 'life well', 'lifestyle', 'lifetime', 'lift', 'light', 'lighting', 'like', 'like many', 'likely', 'limit', 'limited', 'lincoln', 'lindsay', 'lindsey', 'line', 'lining', 'link', 'linked', 'lion', 'lip', 'lipstick', 'lisa', 'list', 'listen', 'listening', 'literally', 'little', 'little bit', 'little girl', 'live', 'lived', 'living', 'loan', 'lobby', 'lobbyist', 'local', 'located', 'location', 'lock', 'locked', 'lohan', 'london', 'lonely', 'long', 'long term', 'long time', 'long way', 'longer', 'look', 'look back', 'look day', 'look like', 'look photo', 'looked', 'looked like', 'looking', 'loose', 'lopez', 'lord', 'los', 'los angeles', 'lose', 'lose weight', 'loser', 'loses', 'losing', 'loss', 'lost', 'lost weight', 'lot', 'lot people', 'lottery', 'loud', 'louis', 'louisiana', 'love', 'love letter', 'loved', 'loved one', 'lovely', 'lover', 'loving', 'low', 'lower', 'luck', 'luckily', 'lucky', 'luke', 'lunch', 'lung', 'luxury', 'lying', 'machine', 'mad', 'made', 'madness', 'madonna', 'magazine', 'magic', 'magical', 'maher', 'mail', 'main', 'maine', 'mainstream', 'maintain', 'maintaining', 'major', 'majority', 'make', 'make difference', 'make feel', 'make sense', 'make sure', 'makeover', 'maker', 'makeup', 'making', 'male', 'mall', 'mama', 'man', 'manage', 'managed', 'management', 'manager', 'managing', 'manchester', 'manhattan', 'manner', 'manning', 'many', 'many american', 'many people', 'many time', 'many way', 'many year', 'map', 'mar', 'marathon', 'marc', 'march', 'marco', 'marco rubio', 'maria', 'marijuana', 'marine', 'mark', 'marked', 'market', 'marketing', 'marriage', 'marriage equality', 'married', 'marry', 'martha', 'martin', 'marvel', 'mary', 'maryland', 'mask', 'mass', 'mass shooting', 'massachusetts', 'massacre', 'massive', 'master', 'match', 'mate', 'material', 'maternity', 'math', 'matt', 'matter', 'matthew', 'may', 'may help', 'may seem', 'maybe', 'mayor', 'mccain', 'mccarthy', 'mcconnell', 'mcdonald', 'meal', 'mean', 'meaning', 'meaningful', 'meant', 'meanwhile', 'measure', 'meat', 'medal', 'medicaid', 'medical', 'medication', 'medicine', 'meditate', 'meditation', 'mediterranean', 'medium', 'meet', 'meeting', 'melania', 'melissa', 'melt', 'member', 'meme', 'memo', 'memoir', 'memorable', 'memorial', 'memorial day', 'memory', 'men', 'men woman', 'mental', 'mental health', 'mental illness', 'mentally', 'mention', 'menu', 'mere', 'mess', 'message', 'messy', 'met', 'method', 'mexican', 'mexico', 'meyers', 'miami', 'michael', 'michelle', 'michelle obama', 'michigan', 'mid', 'middle', 'middle class', 'middle east', 'middleton', 'midnight', 'midst', 'might', 'migrant', 'mike', 'mike penny', 'mile', 'milestone', 'miley', 'miley cyrus', 'militant', 'military', 'milk', 'millennial', 'millennials', 'miller', 'million', 'million american', 'million dollar', 'million people', 'mind', 'mindful', 'mindfulness', 'mine', 'mini', 'minimum', 'minimum wage', 'minister', 'minnesota', 'minor', 'minority', 'minute', 'miracle', 'miranda', 'mirror', 'misconduct', 'miss', 'missed', 'missile', 'missing', 'mission', 'mississippi', 'missouri', 'mistake', 'mitch', 'mitch mcconnell', 'mitt', 'mitt romney', 'mix', 'mixed', 'mobile', 'mock', 'model', 'modeling', 'moderate', 'modern', 'mogul', 'mom', 'mom dad', 'moment', 'mommy', 'monday', 'monday morning', 'money', 'monster', 'month', 'month ago', 'month old', 'monument', 'mood', 'moon', 'moore', 'moral', 'morgan', 'morning', 'morning email', 'morning newsbrief', 'mortgage', 'mosque', 'moss', 'mostly', 'mother', 'mother day', 'motherhood', 'motion', 'motivation', 'mount', 'mountain', 'mouse', 'mouth', 'move', 'move forward', 'moved', 'movement', 'movie', 'moving', 'mr', 'mtv', 'much', 'mueller', 'muhammad', 'multi', 'multiple', 'murder', 'murray', 'muscle', 'museum', 'music', 'music award', 'music video', 'musical', 'musician', 'muslim', 'must', 'myanmar', 'mysterious', 'mystery', 'myth', 'nail', 'naked', 'name', 'named', 'nancy', 'narrative', 'nasa', 'nation', 'national', 'national park', 'national security', 'nationwide', 'native', 'natural', 'naturally', 'nature', 'navigate', 'navy', 'nazi', 'nba', 'nbc', 'ncaa', 'near', 'nearly', 'necessarily', 'necessary', 'neck', 'need', 'need get', 'need help', 'need know', 'needed', 'needle', 'negative', 'negotiation', 'neighbor', 'neighborhood', 'neil', 'neither', 'nervous', 'net', 'netanyahu', 'netflix', 'network', 'nevada', 'never', 'never seen', 'new', 'new album', 'new book', 'new hampshire', 'new jersey', 'new mom', 'new orleans', 'new report', 'new study', 'new video', 'new way', 'new year', 'new york', 'new yorkers', 'new zealand', 'newborn', 'newest', 'newly', 'news', 'news help', 'newsbrief', 'newsbrief short', 'newspaper', 'newtown', 'next', 'next time', 'next week', 'next year', 'nfl', 'nfl player', 'nice', 'nick', 'nicole', 'nigeria', 'night', 'night live', 'nightmare', 'nine', 'noah', 'nobel', 'nobody', 'noise', 'nominated', 'nomination', 'nominee', 'non', 'none', 'nonprofit', 'norm', 'normal', 'north', 'north carolina', 'north korea', 'north korean', 'northern', 'nose', 'note', 'noted', 'nothing', 'notice', 'noticed', 'notion', 'nov', 'novel', 'november', 'nowhere', 'nra', 'nsfw', 'nuclear', 'nude', 'number', 'numerous', 'nurse', 'nursing', 'nut', 'nutrition', 'ny', 'nyc', 'oasis', 'obama', 'obama administration', 'obamacare', 'obamacare repeal', 'obese', 'obesity', 'object', 'obsessed', 'obsession', 'obstacle', 'obvious', 'obviously', 'occasion', 'occur', 'occurred', 'ocean', 'october', 'odd', 'odds', 'ode', 'offensive', 'offer', 'offered', 'offering', 'office', 'officer', 'official', 'official said', 'official say', 'officially', 'often', 'oh', 'ohio', 'oil', 'ok', 'okay', 'oklahoma', 'old', 'old daughter', 'old son', 'older', 'oldest', 'olive', 'oliver', 'olivia', 'olympian', 'olympic', 'olympics', 'one', 'one another', 'one best', 'one day', 'one favorite', 'one person', 'one thing', 'one two', 'one wa', 'one way', 'one woman', 'one year', 'ongoing', 'onion', 'online', 'onto', 'op', 'open', 'open letter', 'opened', 'opening', 'openly', 'opera', 'operation', 'opinion', 'opioid', 'opponent', 'opportunity', 'opposed', 'opposite', 'opposition', 'oprah', 'option', 'orange', 'order', 'ordered', 'ordinary', 'oregon', 'organic', 'organization', 'organized', 'origin', 'original', 'originally', 'orlando', 'orleans', 'oscar', 'others', 'otherwise', 'outbreak', 'outcome', 'outdoor', 'outdoors', 'outfit', 'outrage', 'outrageous', 'outside', 'overall', 'overcome', 'overwhelmed', 'overwhelming', 'owned', 'owner', 'pac', 'pace', 'pacific', 'pack', 'package', 'packed', 'packing', 'page', 'paid', 'pain', 'painful', 'paint', 'painting', 'pair', 'pakistan', 'palestinian', 'palm', 'paltrow', 'pancake', 'panel', 'panic', 'pant', 'panther', 'paper', 'parade', 'paradise', 'parent', 'parent child', 'parenthood', 'parenting', 'paris', 'park', 'parker', 'parody', 'part', 'participant', 'particular', 'particularly', 'partner', 'partnership', 'party', 'pas', 'pass', 'passage', 'passed', 'passenger', 'passing', 'passion', 'past', 'past week', 'past year', 'pasta', 'pastor', 'pat', 'path', 'patience', 'patient', 'patrick', 'patriot', 'pattern', 'paul', 'paul ryan', 'pause', 'pay', 'pay attention', 'paying', 'payment', 'peace', 'peaceful', 'peak', 'peanut', 'peanut butter', 'peek', 'peer', 'pen', 'penalty', 'penis', 'pennsylvania', 'penny', 'pentagon', 'people', 'people know', 'people like', 'people think', 'people want', 'pepper', 'per', 'percent', 'perception', 'perfect', 'perfection', 'perfectly', 'perform', 'performance', 'performed', 'performing', 'perhaps', 'period', 'perk', 'permanent', 'permission', 'perry', 'person', 'personal', 'personality', 'personally', 'perspective', 'pet', 'peter', 'petition', 'phase', 'phenomenon', 'phil', 'philadelphia', 'philippine', 'phone', 'photo', 'photo check', 'photo one', 'photo photo', 'photo poll', 'photo see', 'photo show', 'photo video', 'photo want', 'photo week', 'photograph', 'photographer', 'photography', 'phrase', 'physical', 'physically', 'physician', 'pic', 'pick', 'picked', 'picking', 'picture', 'pie', 'piece', 'pig', 'pill', 'pilot', 'pink', 'pinterest', 'pinterest instagram', 'pipeline', 'pit', 'pitch', 'pizza', 'place', 'placed', 'plain', 'plan', 'plane', 'planet', 'planned', 'planned parenthood', 'planner', 'planning', 'plant', 'plastic', 'plate', 'platform', 'play', 'played', 'player', 'playing', 'playlist', 'plea', 'please', 'pleasure', 'pledge', 'plenty', 'plot', 'plus', 'pm', 'pocket', 'podcast', 'poem', 'poet', 'poetry', 'point', 'police', 'police officer', 'police say', 'policy', 'political', 'politically', 'politician', 'politics', 'poll', 'poll show', 'polling', 'pollution', 'pool', 'poor', 'pop', 'pope', 'pope francis', 'popular', 'population', 'porn', 'portion', 'portland', 'portrait', 'pose', 'position', 'positive', 'possibility', 'possible', 'possibly', 'post', 'posted', 'poster', 'pot', 'potato', 'potential', 'potentially', 'potter', 'pound', 'poverty', 'power', 'powerful', 'pr', 'practical', 'practice', 'practicing', 'praise', 'prank', 'pray', 'prayer', 'pre', 'precious', 'predict', 'prediction', 'prefer', 'pregnancy', 'pregnant', 'pregnant woman', 'premiere', 'prep', 'prepare', 'prepared', 'preparing', 'prescription', 'presence', 'present', 'presented', 'presidency', 'president', 'president barack', 'president donald', 'president elect', 'president ha', 'president obama', 'president trump', 'presidential', 'presidential campaign', 'presidential candidate', 'presidential election', 'press', 'pressure', 'pretty', 'pretty much', 'prevent', 'prevention', 'preview', 'previous', 'previously', 'price', 'pride', 'primary', 'prime', 'prime minister', 'prince', 'princess', 'principle', 'print', 'priority', 'prison', 'prisoner', 'privacy', 'private', 'privilege', 'prize', 'pro', 'probably', 'probe', 'problem', 'procedure', 'process', 'produce', 'produced', 'producer', 'product', 'production', 'productive', 'productivity', 'prof', 'professional', 'professor', 'profile', 'profit', 'profound', 'program', 'progress', 'progressive', 'project', 'prominent', 'promise', 'promised', 'promote', 'promoting', 'prompt', 'proof', 'proper', 'property', 'proposal', 'propose', 'proposed', 'prosecutor', 'prospect', 'protect', 'protecting', 'protection', 'protein', 'protest', 'protester', 'proud', 'prove', 'proved', 'proven', 'provide', 'provided', 'provider', 'provides', 'providing', 'pruitt', 'psychological', 'psychology', 'ptsd', 'public', 'public health', 'public school', 'publicly', 'published', 'puerto', 'puerto rico', 'pull', 'pulled', 'pulling', 'pump', 'pumpkin', 'punch', 'punishment', 'puppy', 'purchase', 'pure', 'purple', 'purpose', 'purse', 'pursue', 'pursuit', 'push', 'pushed', 'pushing', 'put', 'putin', 'putting', 'qatar', 'quality', 'quarter', 'queen', 'queer', 'quest', 'question', 'quick', 'quickly', 'quiet', 'quietly', 'quit', 'quite', 'quiz', 'quote', 'rabbi', 'race', 'rachel', 'racial', 'racism', 'racist', 'radar', 'radical', 'radio', 'rage', 'raid', 'rain', 'rainbow', 'raise', 'raised', 'raising', 'rally', 'ran', 'rand', 'rand paul', 'random', 'range', 'rank', 'ranking', 'rant', 'rap', 'rape', 'rapper', 'rare', 'rarely', 'rate', 'rather', 'rating', 'raw', 'ray', 'reach', 'reached', 'reaching', 'react', 'reaction', 'read', 'reader', 'reading', 'ready', 'real', 'real estate', 'real life', 'reality', 'realize', 'realized', 'really', 'really need', 'really want', 'reason', 'rebel', 'recall', 'recap', 'receive', 'received', 'receiving', 'recent', 'recently', 'reception', 'recession', 'recipe', 'recipe day', 'recognition', 'recognize', 'record', 'recovering', 'recovery', 'red', 'red carpet', 'reddit', 'reduce', 'reducing', 'reese', 'reference', 'referendum', 'reflect', 'reflection', 'reflects', 'reform', 'refreshing', 'refugee', 'refuse', 'refused', 'regarding', 'regardless', 'regime', 'region', 'regional', 'regret', 'regular', 'regularly', 'regulation', 'reid', 'reilly', 'reject', 'rejected', 'related', 'relation', 'relationship', 'relative', 'relatively', 'relax', 'release', 'released', 'relief', 'religion', 'religious', 'remain', 'remains', 'remark', 'remarkable', 'remember', 'remembering', 'remind', 'reminded', 'reminder', 'reminds', 'remote', 'remove', 'removed', 'rent', 'rep', 'repeal', 'repeat', 'repeatedly', 'replace', 'replacement', 'report', 'reported', 'reportedly', 'reporter', 'reporting', 'represent', 'representative', 'represents', 'republic', 'republican', 'republican party', 'republican presidential', 'reputation', 'request', 'require', 'required', 'requires', 'rescue', 'rescued', 'research', 'researcher', 'researcher found', 'reserve', 'resident', 'resign', 'resignation', 'resilience', 'resist', 'resistance', 'resolution', 'resort', 'resource', 'respect', 'respond', 'responds', 'response', 'responsibility', 'responsible', 'rest', 'restaurant', 'restriction', 'result', 'retail', 'retailer', 'retired', 'retirement', 'retreat', 'return', 'returned', 'returning', 'reunion', 'reuters', 'reveal', 'revealed', 'reveals', 'revelation', 'revenge', 'reverse', 'review', 'revolution', 'reward', 'reynolds', 'rhetoric', 'rice', 'rich', 'richard', 'rick', 'rico', 'rid', 'ride', 'ridiculous', 'right', 'right wing', 'rihanna', 'ring', 'rio', 'riot', 'rip', 'rise', 'rise morning', 'rise need', 'rising', 'risk', 'ritual', 'rival', 'river', 'rnc', 'road', 'road trip', 'rob', 'robert', 'robin', 'robot', 'rock', 'rocket', 'roger', 'role', 'role model', 'roll', 'roller', 'rolling', 'romance', 'romantic', 'rome', 'romney', 'ron', 'roof', 'room', 'root', 'rose', 'ross', 'rough', 'round', 'roundup', 'roundup ebay', 'route', 'routine', 'row', 'roy', 'roy moore', 'royal', 'rubio', 'ruin', 'rule', 'ruled', 'ruling', 'rumor', 'run', 'runner', 'running', 'runway', 'rupaul', 'rural', 'rush', 'russell', 'russia', 'russian', 'ryan', 'sacred', 'sacrifice', 'sad', 'sadly', 'sadness', 'safe', 'safer', 'safety', 'said', 'said wa', 'saint', 'sake', 'salad', 'sale', 'salt', 'sam', 'samantha', 'samantha bee', 'san', 'san diego', 'san francisco', 'sanction', 'sanctuary', 'sand', 'sander', 'sandra', 'sandwich', 'sandy', 'santa', 'sarah', 'sat', 'saturday', 'saturday night', 'sauce', 'saudi', 'saudi arabia', 'save', 'saved', 'saving', 'saw', 'say', 'say trump', 'say wa', 'saying', 'scale', 'scalia', 'scam', 'scandal', 'scare', 'scared', 'scary', 'scene', 'schedule', 'school', 'schumer', 'science', 'scientific', 'scientist', 'score', 'scott', 'scott walker', 'scout', 'scream', 'screen', 'screening', 'scroll', 'sea', 'seal', 'sean', 'sean spicer', 'search', 'searching', 'season', 'seasonal', 'seat', 'seattle', 'second', 'secret', 'secretary', 'secretary state', 'secretly', 'section', 'sector', 'secure', 'security', 'see', 'seed', 'seeing', 'seek', 'seeking', 'seem', 'seem like', 'seemed', 'seemingly', 'seems', 'seems like', 'seen', 'selection', 'selena', 'selena gomez', 'self', 'selfie', 'sell', 'selling', 'sen', 'senate', 'senator', 'send', 'sending', 'sends', 'senior', 'sense', 'sensitive', 'sent', 'sentence', 'sentenced', 'separate', 'separation', 'sept', 'september', 'sequel', 'serf', 'series', 'serious', 'seriously', 'serve', 'served', 'service', 'serving', 'session', 'set', 'seth', 'seth meyers', 'setting', 'settle', 'settlement', 'seven', 'several', 'severe', 'sex', 'sex marriage', 'sexism', 'sexist', 'sexual', 'sexual assault', 'sexual harassment', 'sexual misconduct', 'sexuality', 'sexually', 'sexy', 'shade', 'shadow', 'shake', 'shame', 'shaming', 'shape', 'shaped', 'share', 'shared', 'sharing', 'shark', 'sharp', 'shed', 'sheer', 'shelf', 'shell', 'shelter', 'sheriff', 'shield', 'shift', 'shine', 'ship', 'shirt', 'shock', 'shocked', 'shocking', 'shoe', 'shoot', 'shooter', 'shooting', 'shop', 'shopper', 'shopping', 'shore', 'short', 'short wrap', 'shortage', 'shot', 'shoulder', 'show', 'show host', 'showed', 'shower', 'showing', 'shown', 'shut', 'shutdown', 'sibling', 'sick', 'side', 'sight', 'sign', 'signal', 'signature', 'signed', 'significant', 'silence', 'silent', 'silicon', 'silicon valley', 'silly', 'silver', 'similar', 'simon', 'simple', 'simply', 'simpson', 'since', 'sing', 'singer', 'singing', 'single', 'single mom', 'sink', 'sister', 'sit', 'site', 'sitting', 'situation', 'six', 'six month', 'six year', 'size', 'sized', 'ski', 'skill', 'skin', 'skinny', 'skip', 'skirt', 'sky', 'slam', 'slave', 'sleep', 'sleeping', 'slideshow', 'slightly', 'slip', 'slow', 'slowly', 'small', 'smaller', 'smart', 'smartphone', 'smell', 'smile', 'smith', 'smoke', 'smoking', 'snack', 'snap', 'snapchat', 'sneak', 'sneaker', 'snl', 'snow', 'soccer', 'social', 'social medium', 'social security', 'society', 'sock', 'soda', 'soft', 'solar', 'sold', 'soldier', 'solid', 'solidarity', 'solo', 'solution', 'solve', 'somebody', 'somehow', 'someone', 'someone else', 'something', 'something new', 'something say', 'sometimes', 'sometimes take', 'somewhere', 'son', 'song', 'soon', 'sophisticated', 'sorry', 'sort', 'sought', 'soul', 'sound', 'sound like', 'soup', 'source', 'south', 'south africa', 'south carolina', 'south korea', 'southern', 'spa', 'space', 'spain', 'spanish', 'spark', 'sparked', 'speak', 'speaker', 'speaking', 'speaks', 'spear', 'special', 'special need', 'specie', 'specific', 'specifically', 'spectacular', 'spectrum', 'speech', 'speed', 'spend', 'spend time', 'spending', 'spent', 'spice', 'spicer', 'spider', 'spill', 'spin', 'spirit', 'spiritual', 'spiritual practice', 'split', 'spoke', 'spoken', 'spokesman', 'spoof', 'sport', 'spot', 'spotlight', 'spotted', 'spouse', 'spray', 'spread', 'spring', 'spy', 'square', 'st', 'st louis', 'staff', 'staffer', 'stage', 'stake', 'stamp', 'stance', 'stand', 'standard', 'standing', 'staple', 'star', 'star trek', 'star war', 'starbucks', 'starring', 'start', 'start day', 'started', 'starting', 'startup', 'state', 'state department', 'state union', 'statement', 'station', 'statistic', 'statue', 'status', 'stay', 'stay home', 'staying', 'steal', 'stealing', 'stem', 'step', 'stephen', 'stephen colbert', 'stepped', 'stepping', 'stereotype', 'sterling', 'steve', 'steven', 'stewart', 'stick', 'stigma', 'still', 'stock', 'stolen', 'stomach', 'stone', 'stood', 'stop', 'stopped', 'stopping', 'store', 'storm', 'story', 'straight', 'strain', 'strain constantly', 'strange', 'stranger', 'strategy', 'stream', 'street', 'street style', 'strength', 'stress', 'stress strain', 'stressed', 'stressful', 'stretch', 'strike', 'striking', 'strip', 'stroke', 'strong', 'stronger', 'struck', 'structure', 'struggle', 'struggling', 'stuck', 'student', 'student loan', 'studio', 'study', 'study find', 'study published', 'study researcher', 'study say', 'study show', 'study suggests', 'stuff', 'stunning', 'stunt', 'stupid', 'style', 'style evolution', 'style twitter', 'stylelist', 'stylelist network', 'stylelist twitter', 'stylish', 'subject', 'substance', 'subtle', 'subway', 'succeed', 'success', 'successful', 'successfully', 'suck', 'suddenly', 'sue', 'sued', 'suffer', 'suffered', 'suffering', 'sugar', 'suggest', 'suggested', 'suggestion', 'suggests', 'suicide', 'suit', 'sum', 'summer', 'summit', 'sun', 'sunday', 'sunshine', 'super', 'super bowl', 'super pac', 'superhero', 'supermodel', 'supply', 'support', 'supported', 'supporter', 'supporting', 'supposed', 'supremacist', 'supreme', 'supreme court', 'sure', 'sure check', 'surely', 'surface', 'surge', 'surgery', 'surprise', 'surprised', 'surprising', 'surprisingly', 'surrounded', 'surrounding', 'survey', 'survival', 'survive', 'survived', 'surviving', 'survivor', 'susan', 'suspect', 'suspected', 'suspended', 'sustainable', 'swap', 'sweater', 'sweet', 'swift', 'swim', 'swimming', 'swing', 'switch', 'symbol', 'symptom', 'syndrome', 'syria', 'syrian', 'syrian refugee', 'system', 'table', 'tackle', 'taco', 'tactic', 'tag', 'take', 'take care', 'take life', 'take look', 'take place', 'take time', 'taken', 'taking', 'tale', 'talent', 'talented', 'talk', 'talked', 'talking', 'talking point', 'tank', 'tap', 'tape', 'target', 'targeted', 'task', 'taste', 'tattoo', 'taught', 'tax', 'taxpayer', 'taylor', 'taylor swift', 'tea', 'teach', 'teacher', 'teaching', 'team', 'tear', 'tech', 'technique', 'technology', 'ted', 'ted cruz', 'teen', 'teenage', 'teenager', 'teeth', 'teigen', 'television', 'tell', 'tell story', 'telling', 'temperature', 'temporary', 'ten', 'tend', 'tennessee', 'tennis', 'tension', 'term', 'terrible', 'terrifying', 'terror', 'terrorism', 'terrorist', 'test', 'tested', 'testing', 'texas', 'text', 'thank', 'thankful', 'thanks', 'thanksgiving', 'theater', 'theme', 'themed', 'theory', 'therapist', 'therapy', 'thin', 'thing', 'thing ever', 'thing know', 'thing learned', 'thing need', 'think', 'thinking', 'third', 'thomas', 'though', 'thought', 'thought wa', 'thought would', 'thousand', 'threat', 'threatened', 'threatening', 'threatens', 'three', 'three year', 'threw', 'thrive', 'throne', 'throughout', 'throw', 'throwing', 'thrown', 'thursday', 'thus', 'ticket', 'tie', 'tied', 'tiger', 'tight', 'tillerson', 'tim', 'timberlake', 'time', 'time get', 'time wa', 'time year', 'tina', 'tiny', 'tip', 'tip help', 'tired', 'title', 'toast', 'tobacco', 'today', 'toddler', 'toe', 'together', 'toilet', 'told', 'toll', 'tom', 'tomato', 'tomorrow', 'ton', 'tone', 'tonight', 'tony', 'took', 'tool', 'top', 'top 10', 'topic', 'toronto', 'torture', 'total', 'totally', 'touch', 'touch check', 'touching', 'tough', 'tour', 'tourism', 'tourist', 'toward', 'towards', 'tower', 'town', 'toxic', 'toy', 'track', 'trade', 'trading', 'tradition', 'traditional', 'traffic', 'tragedy', 'tragic', 'trail', 'trailer', 'train', 'trainer', 'training', 'trans', 'transform', 'transformation', 'transgender', 'transition', 'trap', 'trapped', 'trash', 'trauma', 'travel', 'travel ban', 'traveled', 'traveler', 'traveling', 'treasure', 'treat', 'treated', 'treating', 'treatment', 'tree', 'trek', 'tremendous', 'trend', 'trevor', 'trevor noah', 'trial', 'tribute', 'trick', 'tried', 'trigger', 'trip', 'triple', 'troll', 'troop', 'trophy', 'tropical', 'trouble', 'truck', 'true', 'truly', 'trump', 'trump administration', 'trump campaign', 'trump ha', 'trump jr', 'trump say', 'trump supporter', 'trump wa', 'trust', 'truth', 'try', 'trying', 'tsa', 'tuesday', 'tumblr', 'tumblr pinterest', 'tune', 'turkey', 'turkish', 'turn', 'turned', 'turning', 'tv', 'tv show', 'tweet', 'tweeted', 'twenty', 'twice', 'twin', 'twist', 'twitter', 'twitter facebook', 'twitter pinterest', 'two', 'two week', 'two year', 'tyler', 'type', 'typical', 'typically', 'uber', 'ugly', 'uk', 'ukraine', 'ultimate', 'ultimately', 'un', 'unable', 'uncertainty', 'uncle', 'uncomfortable', 'understand', 'understanding', 'understood', 'undocumented', 'unemployment', 'unexpected', 'unfortunately', 'union', 'unique', 'unit', 'united', 'united nation', 'united state', 'unity', 'universal', 'universe', 'university', 'unknown', 'unless', 'unlike', 'unlikely', 'unprecedented', 'unusual', 'upcoming', 'update', 'updated', 'upon', 'ups', 'upset', 'urban', 'urge', 'urged', 'us', 'usa', 'use', 'used', 'useful', 'user', 'using', 'usual', 'usually', 'utah', 'vacation', 'vaccine', 'valentine', 'valentine day', 'valley', 'valuable', 'value', 'van', 'variety', 'various', 'vast', 'vatican', 'vega', 'vegan', 'vegetable', 'vegetarian', 'vehicle', 'venue', 'vermont', 'version', 'versus', 'vet', 'veteran', 'via', 'vice', 'vice president', 'victim', 'victoria', 'victoria secret', 'victory', 'video', 'video game', 'video photo', 'video show', 'video week', 'vietnam', 'view', 'viewer', 'viewing', 'village', 'vintage', 'vintage home', 'violation', 'violence', 'violent', 'viral', 'virgin', 'virginia', 'virtual', 'virus', 'vision', 'visit', 'visited', 'visiting', 'visitor', 'vital', 'vitamin', 'vladimir', 'vladimir putin', 'vogue', 'voice', 'volunteer', 'vote', 'voted', 'voter', 'voter fraud', 'voting', 'voting right', 'vow', 'vulnerable', 'wa', 'wa also', 'wa born', 'wa first', 'wa found', 'wa going', 'wa like', 'wa one', 'wage', 'wait', 'waiting', 'wake', 'walk', 'walked', 'walker', 'walking', 'walking dead', 'wall', 'wall st', 'wall street', 'wallet', 'walmart', 'want', 'want get', 'want know', 'want make', 'want see', 'want sure', 'wanted', 'wanting', 'war', 'wardrobe', 'warm', 'warming', 'warned', 'warner', 'warning', 'warns', 'warren', 'warrior', 'wash', 'washington', 'washington post', 'waste', 'watch', 'watch video', 'watched', 'watching', 'water', 'wave', 'way', 'way get', 'way make', 'weak', 'wealth', 'wealthy', 'weapon', 'wear', 'wearing', 'weather', 'web', 'website', 'wedding', 'wedding day', 'wedding dress', 'wedding facebook', 'wedding planning', 'wednesday', 'weed', 'week', 'week ago', 'week photo', 'weekend', 'weekly', 'weekly roundup', 'weigh', 'weight', 'weight loss', 'weinstein', 'weird', 'welcome', 'welcome huffpost', 'well', 'well course', 'wellness', 'went', 'west', 'western', 'whale', 'whatever', 'wheel', 'whenever', 'whether', 'white', 'white house', 'white people', 'white supremacist', 'whole', 'whole new', 'whose', 'wide', 'widely', 'wife', 'wild', 'wildfire', 'wildlife', 'william', 'williams', 'willing', 'wilson', 'win', 'wind', 'window', 'wine', 'wing', 'winner', 'winning', 'winter', 'winter olympics', 'wisconsin', 'wisdom', 'wise', 'wish', 'wish could', 'within', 'without', 'witness', 'wolf', 'woman', 'woman business', 'wonder', 'wondered', 'wonderful', 'wondering', 'wood', 'word', 'wore', 'work', 'worked', 'worker', 'workforce', 'working', 'workout', 'workplace', 'world', 'world cup', 'world war', 'worldwide', 'worn', 'worried', 'worry', 'worse', 'worst', 'worth', 'worthy', 'would', 'would like', 'would make', 'would never', 'wound', 'wounded', 'wow', 'wrap', 'wrap news', 'write', 'writer', 'writes', 'writing', 'written', 'wrong', 'wrote', 'www', 'yahoo', 'yeah', 'year', 'year ago', 'year eve', 'year later', 'year old', 'year resolution', 'year since', 'year wa', 'yellow', 'yemen', 'yes', 'yesterday', 'yet', 'yet another', 'yoga', 'york', 'york city', 'york fashion', 'york time', 'yorkers', 'young', 'young adult', 'young people', 'young woman', 'younger', 'youth', 'youtube', 'youtube video', 'zealand', 'zen', 'zero', 'zika', 'zoe', 'zone', 'zoo', 'zuckerberg']\n"
          ],
          "name": "stdout"
        }
      ]
    },
    {
      "cell_type": "code",
      "metadata": {
        "id": "mwYCCFlWNpF3"
      },
      "source": [
        "del text_edited\n",
        "del labels\n",
        "\n",
        "\n",
        "y_train = np.array(y_train)\n",
        "y_test = np.array(y_test)"
      ],
      "execution_count": null,
      "outputs": []
    },
    {
      "cell_type": "code",
      "metadata": {
        "id": "J1U7tRMFNukY"
      },
      "source": [
        "# Reduce dimensionality using svd 5000 --> 500\n",
        "from sklearn.decomposition import TruncatedSVD\n",
        "\n",
        "svd = TruncatedSVD(n_components=500, random_state=4321)\n",
        "X_train = svd.fit_transform(X_train)\n",
        "X_test = svd.transform(X_test)"
      ],
      "execution_count": null,
      "outputs": []
    },
    {
      "cell_type": "code",
      "metadata": {
        "id": "zon84tWJNw75"
      },
      "source": [
        "X_train, X_dev, y_train, y_dev = train_test_split(X_train, y_train, test_size=0.25, random_state=101)\n"
      ],
      "execution_count": null,
      "outputs": []
    },
    {
      "cell_type": "code",
      "metadata": {
        "id": "Rl0nnoq9NzTg"
      },
      "source": [
        "from sklearn.linear_model import LogisticRegression\n",
        "from sklearn.dummy import DummyClassifier\n",
        "from sklearn.metrics import accuracy_score,f1_score\n",
        "from sklearn.metrics import classification_report\n",
        "from sklearn.metrics import confusion_matrix, plot_confusion_matrix, ConfusionMatrixDisplay\n"
      ],
      "execution_count": null,
      "outputs": []
    },
    {
      "cell_type": "code",
      "metadata": {
        "colab": {
          "base_uri": "https://localhost:8080/"
        },
        "id": "JbOvCQHxN3xK",
        "outputId": "7026e118-a1f8-4d93-b760-c1d951089abd"
      },
      "source": [
        "print(\"Results of the majority classifier\")\n",
        "\n",
        "baseline = DummyClassifier(strategy='most_frequent')\n",
        "baseline.fit(X_train, y_train)\n",
        "\n",
        "print(\"Classification report on the training data:\")\n",
        "predictions_train = baseline.predict(X_train)\n",
        "print(classification_report(y_train, predictions_train))\n",
        "\n",
        "print(\"Classification report on the development data:\")\n",
        "predictions_dev = baseline.predict(X_dev)\n",
        "print(classification_report(y_dev, predictions_dev))\n",
        "\n",
        "print(\"Classification report on the test data:\")\n",
        "predictions_test = baseline.predict(X_test)\n",
        "print(classification_report(y_test, predictions_test))\n",
        "\n"
      ],
      "execution_count": null,
      "outputs": [
        {
          "output_type": "stream",
          "text": [
            "Results of the majority classifier\n",
            "Classification report on the training data:\n"
          ],
          "name": "stdout"
        },
        {
          "output_type": "stream",
          "text": [
            "/usr/local/lib/python3.7/dist-packages/sklearn/metrics/_classification.py:1272: UndefinedMetricWarning: Precision and F-score are ill-defined and being set to 0.0 in labels with no predicted samples. Use `zero_division` parameter to control this behavior.\n",
            "  _warn_prf(average, modifier, msg_start, len(result))\n"
          ],
          "name": "stderr"
        },
        {
          "output_type": "stream",
          "text": [
            "                precision    recall  f1-score   support\n",
            "\n",
            "          ARTS       0.00      0.00      0.00       431\n",
            "ARTS & CULTURE       0.00      0.00      0.00       400\n",
            "  BLACK VOICES       0.00      0.00      0.00      1339\n",
            "      BUSINESS       0.00      0.00      0.00      1731\n",
            "       COLLEGE       0.00      0.00      0.00       351\n",
            "        COMEDY       0.00      0.00      0.00      1462\n",
            "         CRIME       0.00      0.00      0.00      1024\n",
            "CULTURE & ARTS       0.00      0.00      0.00       296\n",
            "       DIVORCE       0.00      0.00      0.00      1038\n",
            "     EDUCATION       0.00      0.00      0.00       308\n",
            " ENTERTAINMENT       0.00      0.00      0.00      4797\n",
            "   ENVIRONMENT       0.00      0.00      0.00       380\n",
            "         FIFTY       0.00      0.00      0.00       430\n",
            "  FOOD & DRINK       0.00      0.00      0.00      1895\n",
            "     GOOD NEWS       0.00      0.00      0.00       398\n",
            "         GREEN       0.00      0.00      0.00       817\n",
            "HEALTHY LIVING       0.00      0.00      0.00      1990\n",
            " HOME & LIVING       0.00      0.00      0.00      1240\n",
            "        IMPACT       0.00      0.00      0.00      1058\n",
            " LATINO VOICES       0.00      0.00      0.00       327\n",
            "         MEDIA       0.00      0.00      0.00       878\n",
            "         MONEY       0.00      0.00      0.00       526\n",
            "     PARENTING       0.00      0.00      0.00      2627\n",
            "       PARENTS       0.00      0.00      0.00      1124\n",
            "      POLITICS       0.16      1.00      0.28      9743\n",
            "  QUEER VOICES       0.00      0.00      0.00      1957\n",
            "      RELIGION       0.00      0.00      0.00       780\n",
            "       SCIENCE       0.00      0.00      0.00       632\n",
            "        SPORTS       0.00      0.00      0.00      1422\n",
            "         STYLE       0.00      0.00      0.00       673\n",
            "STYLE & BEAUTY       0.00      0.00      0.00      2875\n",
            "         TASTE       0.00      0.00      0.00       616\n",
            "          TECH       0.00      0.00      0.00       664\n",
            " THE WORLDPOST       0.00      0.00      0.00      1079\n",
            "        TRAVEL       0.00      0.00      0.00      2955\n",
            "      WEDDINGS       0.00      0.00      0.00      1096\n",
            "    WEIRD NEWS       0.00      0.00      0.00       834\n",
            "      WELLNESS       0.00      0.00      0.00      5346\n",
            "         WOMEN       0.00      0.00      0.00      1032\n",
            "    WORLD NEWS       0.00      0.00      0.00       654\n",
            "     WORLDPOST       0.00      0.00      0.00       775\n",
            "\n",
            "      accuracy                           0.16     60000\n",
            "     macro avg       0.00      0.02      0.01     60000\n",
            "  weighted avg       0.03      0.16      0.05     60000\n",
            "\n",
            "Classification report on the development data:\n",
            "                precision    recall  f1-score   support\n",
            "\n",
            "          ARTS       0.00      0.00      0.00       153\n",
            "ARTS & CULTURE       0.00      0.00      0.00       117\n",
            "  BLACK VOICES       0.00      0.00      0.00       473\n",
            "      BUSINESS       0.00      0.00      0.00       586\n",
            "       COLLEGE       0.00      0.00      0.00       103\n",
            "        COMEDY       0.00      0.00      0.00       513\n",
            "         CRIME       0.00      0.00      0.00       349\n",
            "CULTURE & ARTS       0.00      0.00      0.00       103\n",
            "       DIVORCE       0.00      0.00      0.00       357\n",
            "     EDUCATION       0.00      0.00      0.00       111\n",
            " ENTERTAINMENT       0.00      0.00      0.00      1645\n",
            "   ENVIRONMENT       0.00      0.00      0.00       146\n",
            "         FIFTY       0.00      0.00      0.00       146\n",
            "  FOOD & DRINK       0.00      0.00      0.00       553\n",
            "     GOOD NEWS       0.00      0.00      0.00       143\n",
            "         GREEN       0.00      0.00      0.00       251\n",
            "HEALTHY LIVING       0.00      0.00      0.00       652\n",
            " HOME & LIVING       0.00      0.00      0.00       402\n",
            "        IMPACT       0.00      0.00      0.00       357\n",
            " LATINO VOICES       0.00      0.00      0.00       121\n",
            "         MEDIA       0.00      0.00      0.00       226\n",
            "         MONEY       0.00      0.00      0.00       205\n",
            "     PARENTING       0.00      0.00      0.00       891\n",
            "       PARENTS       0.00      0.00      0.00       364\n",
            "      POLITICS       0.17      1.00      0.28      3303\n",
            "  QUEER VOICES       0.00      0.00      0.00       620\n",
            "      RELIGION       0.00      0.00      0.00       268\n",
            "       SCIENCE       0.00      0.00      0.00       251\n",
            "        SPORTS       0.00      0.00      0.00       460\n",
            "         STYLE       0.00      0.00      0.00       230\n",
            "STYLE & BEAUTY       0.00      0.00      0.00       954\n",
            "         TASTE       0.00      0.00      0.00       200\n",
            "          TECH       0.00      0.00      0.00       178\n",
            " THE WORLDPOST       0.00      0.00      0.00       383\n",
            "        TRAVEL       0.00      0.00      0.00       982\n",
            "      WEDDINGS       0.00      0.00      0.00       362\n",
            "    WEIRD NEWS       0.00      0.00      0.00       241\n",
            "      WELLNESS       0.00      0.00      0.00      1757\n",
            "         WOMEN       0.00      0.00      0.00       389\n",
            "    WORLD NEWS       0.00      0.00      0.00       208\n",
            "     WORLDPOST       0.00      0.00      0.00       247\n",
            "\n",
            "      accuracy                           0.17     20000\n",
            "     macro avg       0.00      0.02      0.01     20000\n",
            "  weighted avg       0.03      0.17      0.05     20000\n",
            "\n",
            "Classification report on the test data:\n",
            "                precision    recall  f1-score   support\n",
            "\n",
            "          ARTS       0.00      0.00      0.00       162\n",
            "ARTS & CULTURE       0.00      0.00      0.00       131\n",
            "  BLACK VOICES       0.00      0.00      0.00       460\n",
            "      BUSINESS       0.00      0.00      0.00       639\n",
            "       COLLEGE       0.00      0.00      0.00       113\n",
            "        COMEDY       0.00      0.00      0.00       492\n",
            "         CRIME       0.00      0.00      0.00       342\n",
            "CULTURE & ARTS       0.00      0.00      0.00        93\n",
            "       DIVORCE       0.00      0.00      0.00       339\n",
            "     EDUCATION       0.00      0.00      0.00       107\n",
            " ENTERTAINMENT       0.00      0.00      0.00      1609\n",
            "   ENVIRONMENT       0.00      0.00      0.00       150\n",
            "         FIFTY       0.00      0.00      0.00       138\n",
            "  FOOD & DRINK       0.00      0.00      0.00       660\n",
            "     GOOD NEWS       0.00      0.00      0.00       122\n",
            "         GREEN       0.00      0.00      0.00       256\n",
            "HEALTHY LIVING       0.00      0.00      0.00       622\n",
            " HOME & LIVING       0.00      0.00      0.00       407\n",
            "        IMPACT       0.00      0.00      0.00       324\n",
            " LATINO VOICES       0.00      0.00      0.00       113\n",
            "         MEDIA       0.00      0.00      0.00       294\n",
            "         MONEY       0.00      0.00      0.00       143\n",
            "     PARENTING       0.00      0.00      0.00       891\n",
            "       PARENTS       0.00      0.00      0.00       398\n",
            "      POLITICS       0.16      1.00      0.28      3201\n",
            "  QUEER VOICES       0.00      0.00      0.00       627\n",
            "      RELIGION       0.00      0.00      0.00       240\n",
            "       SCIENCE       0.00      0.00      0.00       221\n",
            "        SPORTS       0.00      0.00      0.00       482\n",
            "         STYLE       0.00      0.00      0.00       196\n",
            "STYLE & BEAUTY       0.00      0.00      0.00       960\n",
            "         TASTE       0.00      0.00      0.00       204\n",
            "          TECH       0.00      0.00      0.00       185\n",
            " THE WORLDPOST       0.00      0.00      0.00       340\n",
            "        TRAVEL       0.00      0.00      0.00      1067\n",
            "      WEDDINGS       0.00      0.00      0.00       366\n",
            "    WEIRD NEWS       0.00      0.00      0.00       255\n",
            "      WELLNESS       0.00      0.00      0.00      1861\n",
            "         WOMEN       0.00      0.00      0.00       335\n",
            "    WORLD NEWS       0.00      0.00      0.00       191\n",
            "     WORLDPOST       0.00      0.00      0.00       264\n",
            "\n",
            "      accuracy                           0.16     20000\n",
            "     macro avg       0.00      0.02      0.01     20000\n",
            "  weighted avg       0.03      0.16      0.04     20000\n",
            "\n"
          ],
          "name": "stdout"
        }
      ]
    },
    {
      "cell_type": "code",
      "metadata": {
        "id": "_5989tZmN7Ah"
      },
      "source": [
        "for c in [0.1,0.5,1,5,10,20]:\n",
        "    \n",
        "    logReg = LogisticRegression(solver=\"liblinear\", C = c)\n",
        "    logReg.fit(X_train, y_train)\n",
        "\n",
        "    \n",
        "    predictions_dev = logReg.predict(X_dev)\n",
        "\n",
        "    print(\"Dev data accuracy for C =\",c) \n",
        "    print(accuracy_score(y_dev, predictions_dev))\n",
        "\n",
        "    print(\"Dev f1 for C =\",c) \n",
        "    print(f1_score(y_dev, predictions_dev))"
      ],
      "execution_count": null,
      "outputs": []
    },
    {
      "cell_type": "code",
      "metadata": {
        "id": "T8JiGzR9mWiX"
      },
      "source": [
        ""
      ],
      "execution_count": null,
      "outputs": []
    },
    {
      "cell_type": "code",
      "metadata": {
        "colab": {
          "base_uri": "https://localhost:8080/"
        },
        "id": "HzDBHYHHn3Ot",
        "outputId": "07f8c956-8915-47f7-eb64-42be2c612152"
      },
      "source": [
        "learning_curve_steps = np.arange(len(X_train)/10,len(X_train)+1,len(X_train)/10).astype(int)\n",
        "training_f1_scores = []\n",
        "development_f1_scores = []\n",
        "\n",
        "for index in learning_curve_steps:\n",
        "    print(index)\n",
        "    logReg = LogisticRegression(solver=\"liblinear\", C = 10)\n",
        "    logReg.fit(X_train[0:index], y_train[0:index])\n",
        "\n",
        "    predictions_train = logReg.predict(X_train[0:index]) \n",
        "    predictions_dev = logReg.predict(X_dev)\n",
        "\n",
        "    training_f1_scores.append( f1_score(y_train[0:index], predictions_train, average='macro')     )\n",
        "    development_f1_scores.append(  f1_score(y_dev, predictions_dev, average='macro')   )"
      ],
      "execution_count": null,
      "outputs": [
        {
          "name": "stdout",
          "output_type": "stream",
          "text": [
            "6000\n",
            "12000\n",
            "18000\n",
            "24000\n",
            "30000\n",
            "36000\n",
            "42000\n",
            "48000\n",
            "54000\n",
            "60000\n"
          ]
        }
      ]
    },
    {
      "cell_type": "code",
      "metadata": {
        "colab": {
          "base_uri": "https://localhost:8080/"
        },
        "id": "br8N9X4ON4bp",
        "outputId": "a91064b4-9c1c-43f2-c2ff-5bbb994f1a86"
      },
      "source": [
        "print(\"Results of logistic regression with C =\",10)\n",
        "\n",
        "logReg = LogisticRegression(solver=\"liblinear\", C = 10)\n",
        "logReg.fit(X_train, y_train)\n",
        "\n",
        "print(\"Classification report on the training data:\")\n",
        "predictions_train = logReg.predict(X_train)\n",
        "print(classification_report(y_train, predictions_train))\n",
        "\n",
        "print(\"Classification report on the development data:\")\n",
        "predictions_dev = logReg.predict(X_dev)\n",
        "print(classification_report(y_dev, predictions_dev))\n",
        "\n",
        "print(\"Classification report on the test data:\")\n",
        "predictions_test = logReg.predict(X_test)\n",
        "print(classification_report(y_test, predictions_test))\n"
      ],
      "execution_count": null,
      "outputs": [
        {
          "output_type": "stream",
          "text": [
            "Results of logistic regression with C = 10\n",
            "Classification report on the training data:\n",
            "                precision    recall  f1-score   support\n",
            "\n",
            "          ARTS       0.45      0.16      0.24       431\n",
            "ARTS & CULTURE       0.47      0.15      0.22       400\n",
            "  BLACK VOICES       0.52      0.28      0.36      1339\n",
            "      BUSINESS       0.47      0.42      0.44      1731\n",
            "       COLLEGE       0.53      0.38      0.44       351\n",
            "        COMEDY       0.54      0.31      0.40      1462\n",
            "         CRIME       0.55      0.53      0.54      1024\n",
            "CULTURE & ARTS       0.68      0.22      0.34       296\n",
            "       DIVORCE       0.79      0.66      0.72      1038\n",
            "     EDUCATION       0.49      0.30      0.37       308\n",
            " ENTERTAINMENT       0.46      0.70      0.55      4797\n",
            "   ENVIRONMENT       0.71      0.19      0.30       380\n",
            "         FIFTY       0.45      0.07      0.12       430\n",
            "  FOOD & DRINK       0.59      0.70      0.64      1895\n",
            "     GOOD NEWS       0.47      0.14      0.21       398\n",
            "         GREEN       0.43      0.30      0.35       817\n",
            "HEALTHY LIVING       0.34      0.14      0.20      1990\n",
            " HOME & LIVING       0.64      0.62      0.63      1240\n",
            "        IMPACT       0.39      0.18      0.25      1058\n",
            " LATINO VOICES       0.47      0.02      0.04       327\n",
            "         MEDIA       0.58      0.33      0.42       878\n",
            "         MONEY       0.54      0.33      0.41       526\n",
            "     PARENTING       0.50      0.62      0.56      2627\n",
            "       PARENTS       0.48      0.18      0.26      1124\n",
            "      POLITICS       0.62      0.85      0.72      9743\n",
            "  QUEER VOICES       0.72      0.63      0.67      1957\n",
            "      RELIGION       0.61      0.37      0.46       780\n",
            "       SCIENCE       0.61      0.31      0.41       632\n",
            "        SPORTS       0.60      0.55      0.57      1422\n",
            "         STYLE       0.55      0.19      0.28       673\n",
            "STYLE & BEAUTY       0.70      0.78      0.74      2875\n",
            "         TASTE       0.50      0.10      0.17       616\n",
            "          TECH       0.56      0.38      0.45       664\n",
            " THE WORLDPOST       0.52      0.40      0.45      1079\n",
            "        TRAVEL       0.61      0.73      0.67      2955\n",
            "      WEDDINGS       0.78      0.72      0.75      1096\n",
            "    WEIRD NEWS       0.41      0.21      0.28       834\n",
            "      WELLNESS       0.50      0.80      0.62      5346\n",
            "         WOMEN       0.41      0.27      0.32      1032\n",
            "    WORLD NEWS       0.54      0.16      0.24       654\n",
            "     WORLDPOST       0.42      0.18      0.26       775\n",
            "\n",
            "      accuracy                           0.56     60000\n",
            "     macro avg       0.54      0.38      0.42     60000\n",
            "  weighted avg       0.55      0.56      0.53     60000\n",
            "\n",
            "Classification report on the development data:\n",
            "                precision    recall  f1-score   support\n",
            "\n",
            "          ARTS       0.36      0.13      0.19       153\n",
            "ARTS & CULTURE       0.29      0.12      0.17       117\n",
            "  BLACK VOICES       0.48      0.25      0.33       473\n",
            "      BUSINESS       0.47      0.39      0.43       586\n",
            "       COLLEGE       0.44      0.32      0.37       103\n",
            "        COMEDY       0.50      0.27      0.36       513\n",
            "         CRIME       0.52      0.49      0.51       349\n",
            "CULTURE & ARTS       0.46      0.16      0.23       103\n",
            "       DIVORCE       0.78      0.61      0.68       357\n",
            "     EDUCATION       0.49      0.27      0.35       111\n",
            " ENTERTAINMENT       0.46      0.68      0.55      1645\n",
            "   ENVIRONMENT       0.52      0.10      0.17       146\n",
            "         FIFTY       0.33      0.05      0.08       146\n",
            "  FOOD & DRINK       0.54      0.61      0.58       553\n",
            "     GOOD NEWS       0.28      0.07      0.11       143\n",
            "         GREEN       0.33      0.24      0.28       251\n",
            "HEALTHY LIVING       0.25      0.11      0.15       652\n",
            " HOME & LIVING       0.61      0.62      0.62       402\n",
            "        IMPACT       0.31      0.14      0.19       357\n",
            " LATINO VOICES       0.67      0.02      0.03       121\n",
            "         MEDIA       0.41      0.25      0.31       226\n",
            "         MONEY       0.56      0.29      0.38       205\n",
            "     PARENTING       0.47      0.58      0.52       891\n",
            "       PARENTS       0.38      0.14      0.20       364\n",
            "      POLITICS       0.62      0.84      0.71      3303\n",
            "  QUEER VOICES       0.70      0.60      0.65       620\n",
            "      RELIGION       0.58      0.37      0.45       268\n",
            "       SCIENCE       0.56      0.34      0.42       251\n",
            "        SPORTS       0.53      0.50      0.52       460\n",
            "         STYLE       0.34      0.11      0.17       230\n",
            "STYLE & BEAUTY       0.66      0.75      0.70       954\n",
            "         TASTE       0.23      0.04      0.07       200\n",
            "          TECH       0.45      0.34      0.39       178\n",
            " THE WORLDPOST       0.43      0.32      0.37       383\n",
            "        TRAVEL       0.58      0.71      0.64       982\n",
            "      WEDDINGS       0.76      0.72      0.74       362\n",
            "    WEIRD NEWS       0.27      0.16      0.20       241\n",
            "      WELLNESS       0.47      0.77      0.59      1757\n",
            "         WOMEN       0.41      0.28      0.33       389\n",
            "    WORLD NEWS       0.29      0.08      0.13       208\n",
            "     WORLDPOST       0.32      0.15      0.21       247\n",
            "\n",
            "      accuracy                           0.53     20000\n",
            "     macro avg       0.47      0.34      0.37     20000\n",
            "  weighted avg       0.51      0.53      0.50     20000\n",
            "\n",
            "Classification report on the test data:\n",
            "                precision    recall  f1-score   support\n",
            "\n",
            "          ARTS       0.22      0.07      0.10       162\n",
            "ARTS & CULTURE       0.27      0.11      0.16       131\n",
            "  BLACK VOICES       0.47      0.25      0.32       460\n",
            "      BUSINESS       0.42      0.36      0.39       639\n",
            "       COLLEGE       0.26      0.19      0.22       113\n",
            "        COMEDY       0.42      0.23      0.30       492\n",
            "         CRIME       0.53      0.50      0.51       342\n",
            "CULTURE & ARTS       0.38      0.16      0.23        93\n",
            "       DIVORCE       0.76      0.60      0.67       339\n",
            "     EDUCATION       0.43      0.21      0.29       107\n",
            " ENTERTAINMENT       0.45      0.68      0.54      1609\n",
            "   ENVIRONMENT       0.64      0.19      0.30       150\n",
            "         FIFTY       0.32      0.04      0.08       138\n",
            "  FOOD & DRINK       0.57      0.64      0.60       660\n",
            "     GOOD NEWS       0.25      0.07      0.11       122\n",
            "         GREEN       0.40      0.24      0.30       256\n",
            "HEALTHY LIVING       0.26      0.11      0.15       622\n",
            " HOME & LIVING       0.57      0.54      0.55       407\n",
            "        IMPACT       0.30      0.12      0.17       324\n",
            " LATINO VOICES       0.00      0.00      0.00       113\n",
            "         MEDIA       0.45      0.26      0.33       294\n",
            "         MONEY       0.34      0.21      0.26       143\n",
            "     PARENTING       0.47      0.59      0.53       891\n",
            "       PARENTS       0.40      0.10      0.16       398\n",
            "      POLITICS       0.59      0.84      0.69      3201\n",
            "  QUEER VOICES       0.70      0.57      0.63       627\n",
            "      RELIGION       0.53      0.33      0.41       240\n",
            "       SCIENCE       0.48      0.29      0.36       221\n",
            "        SPORTS       0.53      0.47      0.50       482\n",
            "         STYLE       0.40      0.14      0.21       196\n",
            "STYLE & BEAUTY       0.67      0.75      0.71       960\n",
            "         TASTE       0.18      0.03      0.05       204\n",
            "          TECH       0.44      0.32      0.37       185\n",
            " THE WORLDPOST       0.43      0.31      0.36       340\n",
            "        TRAVEL       0.59      0.72      0.65      1067\n",
            "      WEDDINGS       0.74      0.68      0.71       366\n",
            "    WEIRD NEWS       0.28      0.15      0.19       255\n",
            "      WELLNESS       0.50      0.77      0.60      1861\n",
            "         WOMEN       0.34      0.22      0.27       335\n",
            "    WORLD NEWS       0.25      0.07      0.11       191\n",
            "     WORLDPOST       0.32      0.11      0.16       264\n",
            "\n",
            "      accuracy                           0.52     20000\n",
            "     macro avg       0.43      0.32      0.35     20000\n",
            "  weighted avg       0.49      0.52      0.49     20000\n",
            "\n"
          ],
          "name": "stdout"
        }
      ]
    },
    {
      "cell_type": "code",
      "metadata": {
        "colab": {
          "base_uri": "https://localhost:8080/",
          "height": 231
        },
        "id": "XQLFey4LKbp3",
        "outputId": "baf16dfb-6819-4e51-a385-4b7d4cf23e51"
      },
      "source": [
        "%matplotlib inline\n",
        "import matplotlib.pyplot as plt\n",
        "\n",
        "plt.plot(learning_curve_steps, training_f1_scores, label = \"training f1 score\")\n",
        "plt.plot(learning_curve_steps, development_f1_scores, label = \"development f1 score\")\n",
        "plt.title(\"Learning curves\")\n",
        "plt.legend()"
      ],
      "execution_count": null,
      "outputs": [
        {
          "output_type": "error",
          "ename": "NameError",
          "evalue": "ignored",
          "traceback": [
            "\u001b[0;31m---------------------------------------------------------------------------\u001b[0m",
            "\u001b[0;31mNameError\u001b[0m                                 Traceback (most recent call last)",
            "\u001b[0;32m<ipython-input-16-612d9c0fbdbc>\u001b[0m in \u001b[0;36m<module>\u001b[0;34m()\u001b[0m\n\u001b[1;32m      2\u001b[0m \u001b[0;32mimport\u001b[0m \u001b[0mmatplotlib\u001b[0m\u001b[0;34m.\u001b[0m\u001b[0mpyplot\u001b[0m \u001b[0;32mas\u001b[0m \u001b[0mplt\u001b[0m\u001b[0;34m\u001b[0m\u001b[0;34m\u001b[0m\u001b[0m\n\u001b[1;32m      3\u001b[0m \u001b[0;34m\u001b[0m\u001b[0m\n\u001b[0;32m----> 4\u001b[0;31m \u001b[0mplt\u001b[0m\u001b[0;34m.\u001b[0m\u001b[0mplot\u001b[0m\u001b[0;34m(\u001b[0m\u001b[0mlearning_curve_steps\u001b[0m\u001b[0;34m,\u001b[0m \u001b[0mtraining_f1_scores\u001b[0m\u001b[0;34m,\u001b[0m \u001b[0mlabel\u001b[0m \u001b[0;34m=\u001b[0m \u001b[0;34m\"training f1 score\"\u001b[0m\u001b[0;34m)\u001b[0m\u001b[0;34m\u001b[0m\u001b[0;34m\u001b[0m\u001b[0m\n\u001b[0m\u001b[1;32m      5\u001b[0m \u001b[0mplt\u001b[0m\u001b[0;34m.\u001b[0m\u001b[0mplot\u001b[0m\u001b[0;34m(\u001b[0m\u001b[0mlearning_curve_steps\u001b[0m\u001b[0;34m,\u001b[0m \u001b[0mdevelopment_f1_scores\u001b[0m\u001b[0;34m,\u001b[0m \u001b[0mlabel\u001b[0m \u001b[0;34m=\u001b[0m \u001b[0;34m\"development f1 score\"\u001b[0m\u001b[0;34m)\u001b[0m\u001b[0;34m\u001b[0m\u001b[0;34m\u001b[0m\u001b[0m\n\u001b[1;32m      6\u001b[0m \u001b[0mplt\u001b[0m\u001b[0;34m.\u001b[0m\u001b[0mtitle\u001b[0m\u001b[0;34m(\u001b[0m\u001b[0;34m\"Learning curves\"\u001b[0m\u001b[0;34m)\u001b[0m\u001b[0;34m\u001b[0m\u001b[0;34m\u001b[0m\u001b[0m\n",
            "\u001b[0;31mNameError\u001b[0m: name 'learning_curve_steps' is not defined"
          ]
        }
      ]
    },
    {
      "cell_type": "code",
      "metadata": {
        "id": "f6fk2XtJKh3Y"
      },
      "source": [
        "#macro average precision/rec, roc , auc"
      ],
      "execution_count": null,
      "outputs": []
    },
    {
      "cell_type": "code",
      "metadata": {
        "colab": {
          "base_uri": "https://localhost:8080/"
        },
        "id": "4YFY-JQENC8I",
        "outputId": "c3de0865-5bac-49b7-b13d-e2afef280ccb"
      },
      "source": [
        "from sklearn.preprocessing import LabelBinarizer\n",
        "lb = LabelBinarizer()\n",
        "\n"
      ],
      "execution_count": null,
      "outputs": [
        {
          "output_type": "execute_result",
          "data": {
            "text/plain": [
              "array([[0, 0, 0, ..., 0, 0, 0],\n",
              "       [0, 0, 0, ..., 0, 0, 0],\n",
              "       [0, 0, 0, ..., 0, 0, 0],\n",
              "       ...,\n",
              "       [0, 0, 0, ..., 0, 0, 0],\n",
              "       [0, 0, 0, ..., 0, 0, 0],\n",
              "       [0, 0, 0, ..., 0, 0, 0]])"
            ]
          },
          "metadata": {},
          "execution_count": 17
        }
      ]
    },
    {
      "cell_type": "code",
      "metadata": {
        "id": "Im_pFAXTNTRQ"
      },
      "source": [
        "pred_test_bin = lb.fit_transform(predictions_test)\n",
        "y_test_bin = lb.transform(y_test)"
      ],
      "execution_count": null,
      "outputs": []
    },
    {
      "cell_type": "code",
      "metadata": {
        "id": "BNuTlCtsLreV"
      },
      "source": [
        "from sklearn.metrics import roc_curve, auc\n",
        "\n",
        "fpr = dict()\n",
        "tpr = dict()\n",
        "roc_auc = dict()\n",
        "\n",
        "fpr[\"macro\"], tpr[\"macro\"], _ = roc_curve(y_test_bin.ravel(), pred_test_bin.ravel())\n",
        "roc_auc[\"macro\"] = auc(fpr[\"macro\"], tpr[\"macro\"])\n"
      ],
      "execution_count": null,
      "outputs": []
    },
    {
      "cell_type": "code",
      "metadata": {
        "colab": {
          "base_uri": "https://localhost:8080/",
          "height": 295
        },
        "id": "QoD3-2mdMyjq",
        "outputId": "389e6390-ab09-4e21-fc16-a70312529643"
      },
      "source": [
        "plt.figure()\n",
        "lw = 2\n",
        "plt.plot(fpr[\"macro\"], tpr[\"macro\"], color='darkorange',\n",
        "         lw=lw, label='ROC curve (AUC = %0.2f)' % roc_auc[\"macro\"])\n",
        "plt.plot([0, 1], [0, 1], color='navy', lw=lw, linestyle='--')\n",
        "plt.xlim([0.0, 1.0])\n",
        "plt.ylim([0.0, 1.05])\n",
        "plt.xlabel('False Positive Rate')\n",
        "plt.ylabel('True Positive Rate')\n",
        "plt.title('Receiver operating characteristic example')\n",
        "plt.legend(loc=\"lower right\")\n",
        "plt.show()"
      ],
      "execution_count": null,
      "outputs": [
        {
          "output_type": "display_data",
          "data": {
            "image/png": "[encoded data removed]",
            "text/plain": [
              "<Figure size 432x288 with 1 Axes>"
            ]
          },
          "metadata": {
            "needs_background": "light"
          }
        }
      ]
    }
  ]
}