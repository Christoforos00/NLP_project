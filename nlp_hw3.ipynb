{
  "nbformat": 4,
  "nbformat_minor": 0,
  "metadata": {
    "colab": {
      "name": "nlp_hw3.ipynb",
      "provenance": [],
      "collapsed_sections": [],
      "include_colab_link": true
    },
    "kernelspec": {
      "display_name": "Python 3",
      "language": "python",
      "name": "python3"
    },
    "language_info": {
      "codemirror_mode": {
        "name": "ipython",
        "version": 3
      },
      "file_extension": ".py",
      "mimetype": "text/x-python",
      "name": "python",
      "nbconvert_exporter": "python",
      "pygments_lexer": "ipython3",
      "version": "3.8.3"
    }
  },
  "cells": [
    {
      "cell_type": "markdown",
      "metadata": {
        "id": "view-in-github",
        "colab_type": "text"
      },
      "source": [
        "<a href=\"https://colab.research.google.com/github/Christoforos00/NLP_project/blob/main/nlp_hw3.ipynb\" target=\"_parent\"><img src=\"https://colab.research.google.com/assets/colab-badge.svg\" alt=\"Open In Colab\"/></a>"
      ]
    },
    {
      "cell_type": "code",
      "metadata": {
        "id": "QD4Xay0Hm9F8"
      },
      "source": [
        "import pandas as pd\n",
        "import nltk\n",
        "import numpy as np\n",
        "import pickle\n",
        "\n",
        "\n"
      ],
      "execution_count": null,
      "outputs": []
    },
    {
      "cell_type": "code",
      "metadata": {
        "colab": {
          "base_uri": "https://localhost:8080/"
        },
        "id": "VRj3YEpGrVSo",
        "outputId": "74bd5019-2368-4b17-8203-e49728bed805"
      },
      "source": [
        "from google.colab import drive\n",
        "drive.mount('/content/drive')"
      ],
      "execution_count": null,
      "outputs": [
        {
          "output_type": "stream",
          "name": "stdout",
          "text": [
            "Drive already mounted at /content/drive; to attempt to forcibly remount, call drive.mount(\"/content/drive\", force_remount=True).\n"
          ]
        }
      ]
    },
    {
      "cell_type": "code",
      "metadata": {
        "id": "96CNevkqyjLm"
      },
      "source": [
        "df = pd.read_json('/content/drive/My Drive/News_Category_Dataset_v2.json', lines=True)"
      ],
      "execution_count": null,
      "outputs": []
    },
    {
      "cell_type": "code",
      "metadata": {
        "colab": {
          "base_uri": "https://localhost:8080/",
          "height": 1000
        },
        "id": "nYVaQIFSzCVr",
        "outputId": "ceda719a-1f73-48d8-efeb-000e2e8697c3"
      },
      "source": [
        "df"
      ],
      "execution_count": null,
      "outputs": [
        {
          "output_type": "execute_result",
          "data": {
            "text/html": [
              "<div>\n",
              "<style scoped>\n",
              "    .dataframe tbody tr th:only-of-type {\n",
              "        vertical-align: middle;\n",
              "    }\n",
              "\n",
              "    .dataframe tbody tr th {\n",
              "        vertical-align: top;\n",
              "    }\n",
              "\n",
              "    .dataframe thead th {\n",
              "        text-align: right;\n",
              "    }\n",
              "</style>\n",
              "<table border=\"1\" class=\"dataframe\">\n",
              "  <thead>\n",
              "    <tr style=\"text-align: right;\">\n",
              "      <th></th>\n",
              "      <th>category</th>\n",
              "      <th>headline</th>\n",
              "      <th>authors</th>\n",
              "      <th>link</th>\n",
              "      <th>short_description</th>\n",
              "      <th>date</th>\n",
              "    </tr>\n",
              "  </thead>\n",
              "  <tbody>\n",
              "    <tr>\n",
              "      <th>0</th>\n",
              "      <td>CRIME</td>\n",
              "      <td>There Were 2 Mass Shootings In Texas Last Week...</td>\n",
              "      <td>Melissa Jeltsen</td>\n",
              "      <td>https://www.huffingtonpost.com/entry/texas-ama...</td>\n",
              "      <td>She left her husband. He killed their children...</td>\n",
              "      <td>2018-05-26</td>\n",
              "    </tr>\n",
              "    <tr>\n",
              "      <th>1</th>\n",
              "      <td>ENTERTAINMENT</td>\n",
              "      <td>Will Smith Joins Diplo And Nicky Jam For The 2...</td>\n",
              "      <td>Andy McDonald</td>\n",
              "      <td>https://www.huffingtonpost.com/entry/will-smit...</td>\n",
              "      <td>Of course it has a song.</td>\n",
              "      <td>2018-05-26</td>\n",
              "    </tr>\n",
              "    <tr>\n",
              "      <th>2</th>\n",
              "      <td>ENTERTAINMENT</td>\n",
              "      <td>Hugh Grant Marries For The First Time At Age 57</td>\n",
              "      <td>Ron Dicker</td>\n",
              "      <td>https://www.huffingtonpost.com/entry/hugh-gran...</td>\n",
              "      <td>The actor and his longtime girlfriend Anna Ebe...</td>\n",
              "      <td>2018-05-26</td>\n",
              "    </tr>\n",
              "    <tr>\n",
              "      <th>3</th>\n",
              "      <td>ENTERTAINMENT</td>\n",
              "      <td>Jim Carrey Blasts 'Castrato' Adam Schiff And D...</td>\n",
              "      <td>Ron Dicker</td>\n",
              "      <td>https://www.huffingtonpost.com/entry/jim-carre...</td>\n",
              "      <td>The actor gives Dems an ass-kicking for not fi...</td>\n",
              "      <td>2018-05-26</td>\n",
              "    </tr>\n",
              "    <tr>\n",
              "      <th>4</th>\n",
              "      <td>ENTERTAINMENT</td>\n",
              "      <td>Julianna Margulies Uses Donald Trump Poop Bags...</td>\n",
              "      <td>Ron Dicker</td>\n",
              "      <td>https://www.huffingtonpost.com/entry/julianna-...</td>\n",
              "      <td>The \"Dietland\" actress said using the bags is ...</td>\n",
              "      <td>2018-05-26</td>\n",
              "    </tr>\n",
              "    <tr>\n",
              "      <th>...</th>\n",
              "      <td>...</td>\n",
              "      <td>...</td>\n",
              "      <td>...</td>\n",
              "      <td>...</td>\n",
              "      <td>...</td>\n",
              "      <td>...</td>\n",
              "    </tr>\n",
              "    <tr>\n",
              "      <th>200848</th>\n",
              "      <td>TECH</td>\n",
              "      <td>RIM CEO Thorsten Heins' 'Significant' Plans Fo...</td>\n",
              "      <td>Reuters, Reuters</td>\n",
              "      <td>https://www.huffingtonpost.com/entry/rim-ceo-t...</td>\n",
              "      <td>Verizon Wireless and AT&amp;T are already promotin...</td>\n",
              "      <td>2012-01-28</td>\n",
              "    </tr>\n",
              "    <tr>\n",
              "      <th>200849</th>\n",
              "      <td>SPORTS</td>\n",
              "      <td>Maria Sharapova Stunned By Victoria Azarenka I...</td>\n",
              "      <td></td>\n",
              "      <td>https://www.huffingtonpost.com/entry/maria-sha...</td>\n",
              "      <td>Afterward, Azarenka, more effusive with the pr...</td>\n",
              "      <td>2012-01-28</td>\n",
              "    </tr>\n",
              "    <tr>\n",
              "      <th>200850</th>\n",
              "      <td>SPORTS</td>\n",
              "      <td>Giants Over Patriots, Jets Over Colts Among  M...</td>\n",
              "      <td></td>\n",
              "      <td>https://www.huffingtonpost.com/entry/super-bow...</td>\n",
              "      <td>Leading up to Super Bowl XLVI, the most talked...</td>\n",
              "      <td>2012-01-28</td>\n",
              "    </tr>\n",
              "    <tr>\n",
              "      <th>200851</th>\n",
              "      <td>SPORTS</td>\n",
              "      <td>Aldon Smith Arrested: 49ers Linebacker Busted ...</td>\n",
              "      <td></td>\n",
              "      <td>https://www.huffingtonpost.com/entry/aldon-smi...</td>\n",
              "      <td>CORRECTION: An earlier version of this story i...</td>\n",
              "      <td>2012-01-28</td>\n",
              "    </tr>\n",
              "    <tr>\n",
              "      <th>200852</th>\n",
              "      <td>SPORTS</td>\n",
              "      <td>Dwight Howard Rips Teammates After Magic Loss ...</td>\n",
              "      <td></td>\n",
              "      <td>https://www.huffingtonpost.com/entry/dwight-ho...</td>\n",
              "      <td>The five-time all-star center tore into his te...</td>\n",
              "      <td>2012-01-28</td>\n",
              "    </tr>\n",
              "  </tbody>\n",
              "</table>\n",
              "<p>200853 rows × 6 columns</p>\n",
              "</div>"
            ],
            "text/plain": [
              "             category  ...       date\n",
              "0               CRIME  ... 2018-05-26\n",
              "1       ENTERTAINMENT  ... 2018-05-26\n",
              "2       ENTERTAINMENT  ... 2018-05-26\n",
              "3       ENTERTAINMENT  ... 2018-05-26\n",
              "4       ENTERTAINMENT  ... 2018-05-26\n",
              "...               ...  ...        ...\n",
              "200848           TECH  ... 2012-01-28\n",
              "200849         SPORTS  ... 2012-01-28\n",
              "200850         SPORTS  ... 2012-01-28\n",
              "200851         SPORTS  ... 2012-01-28\n",
              "200852         SPORTS  ... 2012-01-28\n",
              "\n",
              "[200853 rows x 6 columns]"
            ]
          },
          "metadata": {},
          "execution_count": 4
        }
      ]
    },
    {
      "cell_type": "code",
      "metadata": {
        "id": "heZEqGvB6_48"
      },
      "source": [
        "df = df.sample(frac=1).reset_index(drop=True)\n",
        "df = df[:100000]"
      ],
      "execution_count": null,
      "outputs": []
    },
    {
      "cell_type": "code",
      "metadata": {
        "id": "I3i_QoR8zeNg"
      },
      "source": [
        "df['text'] = df['headline'] + \" \" + df['short_description']\n",
        "texts = df['text'].tolist() \n",
        "labels = df['category'].tolist()\n"
      ],
      "execution_count": null,
      "outputs": []
    },
    {
      "cell_type": "code",
      "metadata": {
        "id": "nDvcLmdE5jib"
      },
      "source": [
        ""
      ],
      "execution_count": null,
      "outputs": []
    },
    {
      "cell_type": "markdown",
      "metadata": {
        "id": "cT1_omKCnMJN"
      },
      "source": [
        "# Νέα ενότητα"
      ]
    },
    {
      "cell_type": "code",
      "metadata": {
        "id": "SLXCtRcmoNz7"
      },
      "source": [
        "del df"
      ],
      "execution_count": null,
      "outputs": []
    },
    {
      "cell_type": "code",
      "metadata": {
        "id": "KtqwJML3B3D-"
      },
      "source": [
        "import spacy\n",
        "from spacy.lang.en.stop_words import STOP_WORDS\n",
        "\n",
        "nlp = spacy.load('en_core_web_sm',disable=[\"tagger\", \"parser\",\"ner\"])\n",
        "nlp.add_pipe(nlp.create_pipe('sentencizer')) \n",
        "\n",
        "def tokenize_samples(samples):\n",
        "  \n",
        "    tokenized_samples = []\n",
        "    for i in range(len(samples)):  # For each sample\n",
        "        doc = nlp(samples[i])  # Tokenize the sample into sentences\n",
        "        tokens = []\n",
        "        for sent in doc.sents:  # For each sentence\n",
        "            for tok in sent:  # Iterate through each token \n",
        "                # Preprocessing: Filter stopwords\n",
        "                if '\\n' in tok.text or \"\\t\" in tok.text or \"--\" in tok.text or \"*\" in tok.text or tok.text.lower() in STOP_WORDS:\n",
        "                    continue\n",
        "                if tok.text.strip():  \n",
        "                    tokens.append(tok.text.replace('\"',\"'\").strip())\n",
        "        tokenized_samples.append(tokens)\n",
        "\n",
        "    return tokenized_samples\n",
        "\n",
        "texts_tokenized = tokenize_samples(texts)\n",
        "text_edited = texts_tokenized\n",
        "texts_tokenized = None"
      ],
      "execution_count": null,
      "outputs": []
    },
    {
      "cell_type": "code",
      "metadata": {
        "colab": {
          "base_uri": "https://localhost:8080/"
        },
        "id": "oT8zMWjPm9GB",
        "outputId": "e77232f5-950a-4bb9-bf9f-2fea0f01786a"
      },
      "source": [
        "\n",
        "nltk.download('wordnet')\n",
        "import re\n",
        "from nltk.stem import WordNetLemmatizer\n",
        "\n",
        "stemmer = WordNetLemmatizer()\n",
        "text_edited = []\n",
        "\n",
        "for text in texts: \n",
        "\n",
        "    # Remove all the special characters\n",
        "    text = re.sub('\\W', ' ', str(text))\n",
        "    \n",
        "    # Remove \\n\n",
        "    text = re.sub('\\s+[\\\\n\\\\r]+', '', text)\n",
        "   \n",
        "    # Remove all single characters\n",
        "    text = re.sub('\\s+[a-zA-Z]\\s+', ' ', text)\n",
        "\n",
        "    # Substitute multiple spaces with single space\n",
        "    text = re.sub(r'\\s+', ' ', text)\n",
        "\n",
        "    # Convert to lowercase\n",
        "    text = text.lower()\n",
        "\n",
        "    # Split the documents based on whitespace \n",
        "    text = text.split()\n",
        "\n",
        "    # Lemmatization\n",
        "    text = [stemmer.lemmatize(word) for word in text]\n",
        "\n",
        "    # Reconstruct the document by joining the words on each whitespace\n",
        "    text = ' '.join(text)\n",
        "\n",
        "    text_edited.append(text)\n"
      ],
      "execution_count": null,
      "outputs": [
        {
          "name": "stdout",
          "output_type": "stream",
          "text": [
            "[nltk_data] Downloading package wordnet to /root/nltk_data...\n",
            "[nltk_data]   Package wordnet is already up-to-date!\n"
          ]
        }
      ]
    },
    {
      "cell_type": "code",
      "metadata": {
        "id": "JbnZEtQym9GC"
      },
      "source": [
        "from sklearn.model_selection import train_test_split  \n",
        "\n",
        "X_train, X_test, y_train, y_test = train_test_split(text_edited, labels, test_size=0.2, random_state=101)"
      ],
      "execution_count": null,
      "outputs": []
    },
    {
      "cell_type": "code",
      "metadata": {
        "id": "iIDaGWHsCPDK"
      },
      "source": [
        "# Load/deserialize\n",
        "fasttext_embed = np.load(\"/content/drive/My Drive/fasttext.npy\")\n",
        "fasttext_word_to_index = pickle.load(open(\"/content/drive/My Drive/fasttext_voc.pkl\", 'rb'))"
      ],
      "execution_count": null,
      "outputs": []
    },
    {
      "cell_type": "code",
      "metadata": {
        "id": "rFfjR35ICGXV"
      },
      "source": [
        "import tensorflow as tf\n",
        "from tensorflow.keras.preprocessing.text import Tokenizer\n",
        "from tensorflow.keras.preprocessing.sequence import pad_sequences\n",
        "\n",
        "MAX_WORDS = 100000\n",
        "MAX_SEQUENCE_LENGTH = 250 \n",
        "EMBEDDING_DIM = fasttext_embed.shape[1]\n",
        "\n",
        "# Init tokenizer\n",
        "tokenizer = Tokenizer(num_words=MAX_WORDS, oov_token='__UNK__')\n",
        "# num_words: the maximum number of words to keep, based on word frequency.\n",
        "# oov_token: will be used to replace OOV WORDS\n",
        "\n",
        "# Fit tokenizer\n",
        "tokenizer.fit_on_texts([\" \".join(x) for x in X_train])\n",
        "\n",
        "# Converts text to sequences of IDs\n",
        "train_seqs = tokenizer.texts_to_sequences([\" \".join(x) for x in X_train])\n",
        "test_seqs = tokenizer.texts_to_sequences([\" \".join(x) for x in X_test])\n",
        "\n",
        "# Pads sequences to a fixed value\n",
        "X_train = pad_sequences(sequences=train_seqs, maxlen=MAX_SEQUENCE_LENGTH, padding='post')\n",
        "X_test = pad_sequences(sequences=test_seqs, maxlen=MAX_SEQUENCE_LENGTH, padding='post')"
      ],
      "execution_count": null,
      "outputs": []
    },
    {
      "cell_type": "code",
      "metadata": {
        "id": "VGWOW0TJ2kOB"
      },
      "source": [
        "from sklearn.feature_extraction.text import TfidfVectorizer\n",
        "\n",
        "# Exclude stopwords\n",
        "nltk.download('stopwords')\n",
        "from nltk.corpus import stopwords\n",
        "\n",
        "# Vectorize the text\n",
        "vectorizer = TfidfVectorizer(\n",
        "    ngram_range=(1, 2),  # Use unigram & bi-gram tf*idf features\n",
        "    max_features = 5000,  # Keep top 5000 features \n",
        "    sublinear_tf=True,  # Replace tf with 1 + log(tf)\n",
        "    stop_words=stopwords.words('english'))  # Remove stopwords\n",
        "\n",
        "# Fit Vectorizer on train data\n",
        "# Transform on all data\n",
        "X_train = vectorizer.fit_transform(X_train) \n",
        "X_test = vectorizer.transform(X_test)\n",
        "\n",
        "print(vectorizer.get_feature_names())"
      ],
      "execution_count": null,
      "outputs": []
    },
    {
      "cell_type": "code",
      "metadata": {
        "id": "a0D76y1t2kxI"
      },
      "source": [
        ""
      ],
      "execution_count": null,
      "outputs": []
    },
    {
      "cell_type": "code",
      "metadata": {
        "id": "xxW6PFUh3ZPL"
      },
      "source": [
        "del text_edited\n",
        "del labels\n",
        "\n",
        "\n",
        "y_train = np.array(y_train)\n",
        "y_test = np.array(y_test)"
      ],
      "execution_count": null,
      "outputs": []
    },
    {
      "cell_type": "code",
      "metadata": {
        "id": "mgVenaTk4Bfl"
      },
      "source": [
        "# Reduce dimensionality using svd 5000 --> 500\n",
        "from sklearn.decomposition import TruncatedSVD\n",
        "\n",
        "svd = TruncatedSVD(n_components=500, random_state=4321)\n",
        "X_train = svd.fit_transform(X_train)\n",
        "X_test = svd.transform(X_test)"
      ],
      "execution_count": null,
      "outputs": []
    },
    {
      "cell_type": "code",
      "metadata": {
        "id": "Av4SQAO9CAwu"
      },
      "source": [
        "from sklearn.preprocessing import LabelBinarizer\n",
        "\n",
        "lb = LabelBinarizer()\n",
        "\n",
        "y_train = lb.fit_transform(y_train)\n",
        "# y_dev = lb.transform(y_dev)\n",
        "y_test = lb.transform(y_test)"
      ],
      "execution_count": null,
      "outputs": []
    },
    {
      "cell_type": "code",
      "metadata": {
        "id": "xHfMy9UW3gsM"
      },
      "source": [
        "X_train, X_dev, y_train, y_dev = train_test_split(X_train, y_train, test_size=0.25, random_state=101)\n"
      ],
      "execution_count": null,
      "outputs": []
    },
    {
      "cell_type": "code",
      "metadata": {
        "id": "CG-cust7BPnQ"
      },
      "source": [
        "y_train_nonbinary = lb.inverse_transform(y_train)\n",
        "y_dev_nonbinary = lb.inverse_transform(y_dev)\n",
        "y_test_nonbinary = lb.inverse_transform(y_test )\n"
      ],
      "execution_count": null,
      "outputs": []
    },
    {
      "cell_type": "code",
      "metadata": {
        "id": "yLIcOri4-m51"
      },
      "source": [
        "from sklearn.linear_model import LogisticRegression\n",
        "from sklearn.dummy import DummyClassifier\n",
        "from sklearn.metrics import accuracy_score\n",
        "from sklearn.metrics import classification_report\n",
        "from sklearn.metrics import confusion_matrix, plot_confusion_matrix, ConfusionMatrixDisplay\n"
      ],
      "execution_count": null,
      "outputs": []
    },
    {
      "cell_type": "code",
      "metadata": {
        "colab": {
          "base_uri": "https://localhost:8080/"
        },
        "id": "rGp_EO7Am9GF",
        "outputId": "7f345234-fa08-44fa-a60a-ee654d81d5a6"
      },
      "source": [
        "print(\"Results of the majority classifier\")\n",
        "\n",
        "baseline = DummyClassifier(strategy='most_frequent')\n",
        "baseline.fit(X_train, y_train_nonbinary)\n",
        "\n",
        "print(\"Classification report on the training data:\")\n",
        "predictions_train = baseline.predict(X_train)\n",
        "print(classification_report(y_train_nonbinary, predictions_train))\n",
        "\n",
        "print(\"Classification report on the development data:\")\n",
        "predictions_dev = baseline.predict(X_dev)\n",
        "print(classification_report(y_dev_nonbinary, predictions_dev))\n",
        "\n",
        "print(\"Classification report on the test data:\")\n",
        "predictions_test = baseline.predict(X_test)\n",
        "print(classification_report(y_test_nonbinary, predictions_test))\n",
        "\n"
      ],
      "execution_count": null,
      "outputs": [
        {
          "name": "stdout",
          "output_type": "stream",
          "text": [
            "Results of the majority classifier\n",
            "Classification report on the training data:\n"
          ]
        },
        {
          "name": "stderr",
          "output_type": "stream",
          "text": [
            "/usr/local/lib/python3.7/dist-packages/sklearn/metrics/_classification.py:1272: UndefinedMetricWarning: Precision and F-score are ill-defined and being set to 0.0 in labels with no predicted samples. Use `zero_division` parameter to control this behavior.\n",
            "  _warn_prf(average, modifier, msg_start, len(result))\n"
          ]
        },
        {
          "name": "stdout",
          "output_type": "stream",
          "text": [
            "                precision    recall  f1-score   support\n",
            "\n",
            "          ARTS       0.00      0.00      0.00       479\n",
            "ARTS & CULTURE       0.00      0.00      0.00       387\n",
            "  BLACK VOICES       0.00      0.00      0.00      1419\n",
            "      BUSINESS       0.00      0.00      0.00      1791\n",
            "       COLLEGE       0.00      0.00      0.00       344\n",
            "        COMEDY       0.00      0.00      0.00      1488\n",
            "         CRIME       0.00      0.00      0.00      1054\n",
            "CULTURE & ARTS       0.00      0.00      0.00       297\n",
            "       DIVORCE       0.00      0.00      0.00      1025\n",
            "     EDUCATION       0.00      0.00      0.00       285\n",
            " ENTERTAINMENT       0.00      0.00      0.00      4864\n",
            "   ENVIRONMENT       0.00      0.00      0.00       408\n",
            "         FIFTY       0.00      0.00      0.00       420\n",
            "  FOOD & DRINK       0.00      0.00      0.00      1827\n",
            "     GOOD NEWS       0.00      0.00      0.00       381\n",
            "         GREEN       0.00      0.00      0.00       767\n",
            "HEALTHY LIVING       0.00      0.00      0.00      1972\n",
            " HOME & LIVING       0.00      0.00      0.00      1253\n",
            "        IMPACT       0.00      0.00      0.00      1010\n",
            " LATINO VOICES       0.00      0.00      0.00       336\n",
            "         MEDIA       0.00      0.00      0.00       845\n",
            "         MONEY       0.00      0.00      0.00       492\n",
            "     PARENTING       0.00      0.00      0.00      2605\n",
            "       PARENTS       0.00      0.00      0.00      1186\n",
            "      POLITICS       0.16      1.00      0.28      9743\n",
            "  QUEER VOICES       0.00      0.00      0.00      1899\n",
            "      RELIGION       0.00      0.00      0.00       792\n",
            "       SCIENCE       0.00      0.00      0.00       649\n",
            "        SPORTS       0.00      0.00      0.00      1457\n",
            "         STYLE       0.00      0.00      0.00       680\n",
            "STYLE & BEAUTY       0.00      0.00      0.00      2887\n",
            "         TASTE       0.00      0.00      0.00       622\n",
            "          TECH       0.00      0.00      0.00       642\n",
            " THE WORLDPOST       0.00      0.00      0.00      1095\n",
            "        TRAVEL       0.00      0.00      0.00      2932\n",
            "      WEDDINGS       0.00      0.00      0.00      1070\n",
            "    WEIRD NEWS       0.00      0.00      0.00       830\n",
            "      WELLNESS       0.00      0.00      0.00      5342\n",
            "         WOMEN       0.00      0.00      0.00      1006\n",
            "    WORLD NEWS       0.00      0.00      0.00       661\n",
            "     WORLDPOST       0.00      0.00      0.00       758\n",
            "\n",
            "      accuracy                           0.16     60000\n",
            "     macro avg       0.00      0.02      0.01     60000\n",
            "  weighted avg       0.03      0.16      0.05     60000\n",
            "\n",
            "Classification report on the development data:\n",
            "                precision    recall  f1-score   support\n",
            "\n",
            "          ARTS       0.00      0.00      0.00       167\n",
            "ARTS & CULTURE       0.00      0.00      0.00       133\n",
            "  BLACK VOICES       0.00      0.00      0.00       445\n",
            "      BUSINESS       0.00      0.00      0.00       542\n",
            "       COLLEGE       0.00      0.00      0.00       102\n",
            "        COMEDY       0.00      0.00      0.00       565\n",
            "         CRIME       0.00      0.00      0.00       319\n",
            "CULTURE & ARTS       0.00      0.00      0.00       112\n",
            "       DIVORCE       0.00      0.00      0.00       318\n",
            "     EDUCATION       0.00      0.00      0.00       102\n",
            " ENTERTAINMENT       0.00      0.00      0.00      1606\n",
            "   ENVIRONMENT       0.00      0.00      0.00       107\n",
            "         FIFTY       0.00      0.00      0.00       119\n",
            "  FOOD & DRINK       0.00      0.00      0.00       641\n",
            "     GOOD NEWS       0.00      0.00      0.00       136\n",
            "         GREEN       0.00      0.00      0.00       235\n",
            "HEALTHY LIVING       0.00      0.00      0.00       691\n",
            " HOME & LIVING       0.00      0.00      0.00       441\n",
            "        IMPACT       0.00      0.00      0.00       337\n",
            " LATINO VOICES       0.00      0.00      0.00       105\n",
            "         MEDIA       0.00      0.00      0.00       304\n",
            "         MONEY       0.00      0.00      0.00       152\n",
            "     PARENTING       0.00      0.00      0.00       843\n",
            "       PARENTS       0.00      0.00      0.00       406\n",
            "      POLITICS       0.16      1.00      0.28      3288\n",
            "  QUEER VOICES       0.00      0.00      0.00       605\n",
            "      RELIGION       0.00      0.00      0.00       254\n",
            "       SCIENCE       0.00      0.00      0.00       229\n",
            "        SPORTS       0.00      0.00      0.00       503\n",
            "         STYLE       0.00      0.00      0.00       209\n",
            "STYLE & BEAUTY       0.00      0.00      0.00       933\n",
            "         TASTE       0.00      0.00      0.00       247\n",
            "          TECH       0.00      0.00      0.00       237\n",
            " THE WORLDPOST       0.00      0.00      0.00       394\n",
            "        TRAVEL       0.00      0.00      0.00       998\n",
            "      WEDDINGS       0.00      0.00      0.00       340\n",
            "    WEIRD NEWS       0.00      0.00      0.00       247\n",
            "      WELLNESS       0.00      0.00      0.00      1758\n",
            "         WOMEN       0.00      0.00      0.00       337\n",
            "    WORLD NEWS       0.00      0.00      0.00       216\n",
            "     WORLDPOST       0.00      0.00      0.00       277\n",
            "\n",
            "      accuracy                           0.16     20000\n",
            "     macro avg       0.00      0.02      0.01     20000\n",
            "  weighted avg       0.03      0.16      0.05     20000\n",
            "\n",
            "Classification report on the test data:\n",
            "                precision    recall  f1-score   support\n",
            "\n",
            "          ARTS       0.00      0.00      0.00       145\n",
            "ARTS & CULTURE       0.00      0.00      0.00       145\n",
            "  BLACK VOICES       0.00      0.00      0.00       448\n",
            "      BUSINESS       0.00      0.00      0.00       625\n",
            "       COLLEGE       0.00      0.00      0.00       112\n",
            "        COMEDY       0.00      0.00      0.00       508\n",
            "         CRIME       0.00      0.00      0.00       306\n",
            "CULTURE & ARTS       0.00      0.00      0.00        99\n",
            "       DIVORCE       0.00      0.00      0.00       347\n",
            "     EDUCATION       0.00      0.00      0.00       111\n",
            " ENTERTAINMENT       0.00      0.00      0.00      1647\n",
            "   ENVIRONMENT       0.00      0.00      0.00       139\n",
            "         FIFTY       0.00      0.00      0.00       155\n",
            "  FOOD & DRINK       0.00      0.00      0.00       592\n",
            "     GOOD NEWS       0.00      0.00      0.00       136\n",
            "         GREEN       0.00      0.00      0.00       266\n",
            "HEALTHY LIVING       0.00      0.00      0.00       665\n",
            " HOME & LIVING       0.00      0.00      0.00       411\n",
            "        IMPACT       0.00      0.00      0.00       369\n",
            " LATINO VOICES       0.00      0.00      0.00       105\n",
            "         MEDIA       0.00      0.00      0.00       254\n",
            "         MONEY       0.00      0.00      0.00       161\n",
            "     PARENTING       0.00      0.00      0.00       911\n",
            "       PARENTS       0.00      0.00      0.00       448\n",
            "      POLITICS       0.16      1.00      0.28      3258\n",
            "  QUEER VOICES       0.00      0.00      0.00       610\n",
            "      RELIGION       0.00      0.00      0.00       258\n",
            "       SCIENCE       0.00      0.00      0.00       210\n",
            "        SPORTS       0.00      0.00      0.00       482\n",
            "         STYLE       0.00      0.00      0.00       208\n",
            "STYLE & BEAUTY       0.00      0.00      0.00       914\n",
            "         TASTE       0.00      0.00      0.00       205\n",
            "          TECH       0.00      0.00      0.00       200\n",
            " THE WORLDPOST       0.00      0.00      0.00       338\n",
            "        TRAVEL       0.00      0.00      0.00      1004\n",
            "      WEDDINGS       0.00      0.00      0.00       369\n",
            "    WEIRD NEWS       0.00      0.00      0.00       242\n",
            "      WELLNESS       0.00      0.00      0.00      1741\n",
            "         WOMEN       0.00      0.00      0.00       393\n",
            "    WORLD NEWS       0.00      0.00      0.00       213\n",
            "     WORLDPOST       0.00      0.00      0.00       250\n",
            "\n",
            "      accuracy                           0.16     20000\n",
            "     macro avg       0.00      0.02      0.01     20000\n",
            "  weighted avg       0.03      0.16      0.05     20000\n",
            "\n"
          ]
        }
      ]
    },
    {
      "cell_type": "code",
      "metadata": {
        "colab": {
          "base_uri": "https://localhost:8080/"
        },
        "id": "NmkcV16zm9GF",
        "outputId": "5bae1415-54c7-456a-e77d-c2786815459c"
      },
      "source": [
        "print(\"Results of logistic regression\")\n",
        "\n",
        "logReg = LogisticRegression(solver=\"liblinear\", C = 10)\n",
        "logReg.fit(X_train, y_train_nonbinary)\n",
        "\n",
        "print(\"Classification report on the training data:\")\n",
        "predictions_train = logReg.predict(X_train)\n",
        "print(classification_report(y_train_nonbinary, predictions_train))\n",
        "\n",
        "print(\"Classification report on the development data:\")\n",
        "predictions_dev = logReg.predict(X_dev)\n",
        "print(classification_report(y_dev_nonbinary, predictions_dev))\n",
        "\n",
        "print(\"Classification report on the test data:\")\n",
        "predictions_test = logReg.predict(X_test)\n",
        "print(classification_report(y_test_nonbinary, predictions_test))\n"
      ],
      "execution_count": null,
      "outputs": [
        {
          "name": "stdout",
          "output_type": "stream",
          "text": [
            "Results of logistic regression\n",
            "Classification report on the training data:\n",
            "                precision    recall  f1-score   support\n",
            "\n",
            "          ARTS       0.47      0.18      0.26       457\n",
            "ARTS & CULTURE       0.46      0.16      0.23       411\n",
            "  BLACK VOICES       0.49      0.27      0.35      1375\n",
            "      BUSINESS       0.47      0.42      0.45      1756\n",
            "       COLLEGE       0.49      0.33      0.39       368\n",
            "        COMEDY       0.53      0.30      0.38      1576\n",
            "         CRIME       0.56      0.55      0.55      1010\n",
            "CULTURE & ARTS       0.63      0.24      0.35       331\n",
            "       DIVORCE       0.78      0.64      0.70      1003\n",
            "     EDUCATION       0.53      0.33      0.41       302\n",
            " ENTERTAINMENT       0.46      0.70      0.55      4868\n",
            "   ENVIRONMENT       0.72      0.18      0.28       410\n",
            "         FIFTY       0.39      0.07      0.11       399\n",
            "  FOOD & DRINK       0.59      0.71      0.64      1916\n",
            "     GOOD NEWS       0.49      0.18      0.26       439\n",
            "         GREEN       0.45      0.31      0.37       796\n",
            "HEALTHY LIVING       0.36      0.14      0.20      1969\n",
            " HOME & LIVING       0.67      0.65      0.66      1277\n",
            "        IMPACT       0.41      0.20      0.27      1001\n",
            " LATINO VOICES       0.62      0.05      0.10       346\n",
            "         MEDIA       0.51      0.27      0.35       829\n",
            "         MONEY       0.54      0.29      0.38       502\n",
            "     PARENTING       0.50      0.62      0.55      2547\n",
            "       PARENTS       0.50      0.21      0.30      1155\n",
            "      POLITICS       0.62      0.85      0.71      9772\n",
            "  QUEER VOICES       0.71      0.61      0.66      1903\n",
            "      RELIGION       0.61      0.35      0.44       775\n",
            "       SCIENCE       0.58      0.36      0.45       650\n",
            "        SPORTS       0.58      0.52      0.55      1466\n",
            "         STYLE       0.59      0.19      0.29       675\n",
            "STYLE & BEAUTY       0.68      0.77      0.72      2821\n",
            "         TASTE       0.58      0.10      0.17       609\n",
            "          TECH       0.56      0.39      0.46       624\n",
            " THE WORLDPOST       0.50      0.41      0.45      1081\n",
            "        TRAVEL       0.60      0.74      0.66      2942\n",
            "      WEDDINGS       0.79      0.75      0.77      1059\n",
            "    WEIRD NEWS       0.42      0.18      0.26       789\n",
            "      WELLNESS       0.50      0.79      0.61      5377\n",
            "         WOMEN       0.41      0.28      0.33      1008\n",
            "    WORLD NEWS       0.42      0.07      0.12       615\n",
            "     WORLDPOST       0.46      0.19      0.27       791\n",
            "\n",
            "      accuracy                           0.56     60000\n",
            "     macro avg       0.54      0.38      0.42     60000\n",
            "  weighted avg       0.55      0.56      0.53     60000\n",
            "\n",
            "Classification report on the development data:\n",
            "                precision    recall  f1-score   support\n",
            "\n",
            "          ARTS       0.29      0.09      0.14       147\n",
            "ARTS & CULTURE       0.31      0.11      0.16       132\n",
            "  BLACK VOICES       0.53      0.26      0.34       477\n",
            "      BUSINESS       0.44      0.41      0.42       566\n",
            "       COLLEGE       0.33      0.25      0.29       108\n",
            "        COMEDY       0.45      0.24      0.31       502\n",
            "         CRIME       0.53      0.48      0.50       369\n",
            "CULTURE & ARTS       0.35      0.15      0.21       100\n",
            "       DIVORCE       0.76      0.61      0.67       340\n",
            "     EDUCATION       0.30      0.21      0.24        87\n",
            " ENTERTAINMENT       0.46      0.70      0.56      1620\n",
            "   ENVIRONMENT       0.65      0.19      0.29       139\n",
            "         FIFTY       0.14      0.02      0.03       116\n",
            "  FOOD & DRINK       0.55      0.67      0.61       597\n",
            "     GOOD NEWS       0.26      0.09      0.13       152\n",
            "         GREEN       0.39      0.25      0.31       271\n",
            "HEALTHY LIVING       0.29      0.11      0.16       693\n",
            " HOME & LIVING       0.61      0.59      0.60       406\n",
            "        IMPACT       0.35      0.14      0.20       340\n",
            " LATINO VOICES       0.50      0.03      0.06       101\n",
            "         MEDIA       0.46      0.27      0.34       263\n",
            "         MONEY       0.49      0.23      0.32       162\n",
            "     PARENTING       0.48      0.55      0.51       901\n",
            "       PARENTS       0.34      0.16      0.22       380\n",
            "      POLITICS       0.60      0.84      0.70      3264\n",
            "  QUEER VOICES       0.66      0.59      0.62       629\n",
            "      RELIGION       0.53      0.32      0.40       247\n",
            "       SCIENCE       0.48      0.26      0.34       213\n",
            "        SPORTS       0.58      0.51      0.54       490\n",
            "         STYLE       0.48      0.13      0.20       238\n",
            "STYLE & BEAUTY       0.67      0.76      0.71       943\n",
            "         TASTE       0.28      0.04      0.07       210\n",
            "          TECH       0.51      0.29      0.37       224\n",
            " THE WORLDPOST       0.44      0.35      0.39       387\n",
            "        TRAVEL       0.59      0.72      0.65       985\n",
            "      WEDDINGS       0.73      0.71      0.72       350\n",
            "    WEIRD NEWS       0.33      0.13      0.19       262\n",
            "      WELLNESS       0.47      0.77      0.58      1778\n",
            "         WOMEN       0.35      0.24      0.29       341\n",
            "    WORLD NEWS       0.49      0.08      0.13       236\n",
            "     WORLDPOST       0.30      0.14      0.19       234\n",
            "\n",
            "      accuracy                           0.53     20000\n",
            "     macro avg       0.46      0.33      0.36     20000\n",
            "  weighted avg       0.51      0.53      0.49     20000\n",
            "\n",
            "Classification report on the test data:\n",
            "                precision    recall  f1-score   support\n",
            "\n",
            "          ARTS       0.30      0.09      0.14       169\n",
            "ARTS & CULTURE       0.35      0.10      0.16       138\n",
            "  BLACK VOICES       0.43      0.24      0.30       431\n",
            "      BUSINESS       0.43      0.35      0.39       610\n",
            "       COLLEGE       0.46      0.33      0.38       103\n",
            "        COMEDY       0.44      0.26      0.33       476\n",
            "         CRIME       0.49      0.46      0.47       312\n",
            "CULTURE & ARTS       0.50      0.14      0.22       107\n",
            "       DIVORCE       0.78      0.63      0.70       360\n",
            "     EDUCATION       0.45      0.31      0.37        96\n",
            " ENTERTAINMENT       0.41      0.67      0.51      1601\n",
            "   ENVIRONMENT       0.58      0.14      0.23       152\n",
            "         FIFTY       0.30      0.04      0.08       137\n",
            "  FOOD & DRINK       0.52      0.69      0.59       576\n",
            "     GOOD NEWS       0.24      0.06      0.10       127\n",
            "         GREEN       0.37      0.22      0.27       291\n",
            "HEALTHY LIVING       0.26      0.09      0.13       639\n",
            " HOME & LIVING       0.63      0.60      0.61       424\n",
            "        IMPACT       0.41      0.18      0.25       354\n",
            " LATINO VOICES       0.50      0.03      0.06       100\n",
            "         MEDIA       0.52      0.28      0.36       278\n",
            "         MONEY       0.51      0.24      0.32       159\n",
            "     PARENTING       0.46      0.56      0.50       837\n",
            "       PARENTS       0.35      0.17      0.23       376\n",
            "      POLITICS       0.59      0.84      0.69      3168\n",
            "  QUEER VOICES       0.66      0.57      0.61       620\n",
            "      RELIGION       0.56      0.31      0.40       261\n",
            "       SCIENCE       0.51      0.27      0.36       217\n",
            "        SPORTS       0.55      0.48      0.51       505\n",
            "         STYLE       0.51      0.14      0.22       251\n",
            "STYLE & BEAUTY       0.67      0.74      0.70       972\n",
            "         TASTE       0.25      0.02      0.04       250\n",
            "          TECH       0.46      0.29      0.35       203\n",
            " THE WORLDPOST       0.43      0.31      0.36       391\n",
            "        TRAVEL       0.57      0.71      0.64      1030\n",
            "      WEDDINGS       0.75      0.66      0.70       361\n",
            "    WEIRD NEWS       0.32      0.13      0.18       286\n",
            "      WELLNESS       0.48      0.78      0.59      1752\n",
            "         WOMEN       0.39      0.28      0.33       361\n",
            "    WORLD NEWS       0.35      0.05      0.09       240\n",
            "     WORLDPOST       0.40      0.15      0.22       279\n",
            "\n",
            "      accuracy                           0.52     20000\n",
            "     macro avg       0.47      0.33      0.36     20000\n",
            "  weighted avg       0.50      0.52      0.48     20000\n",
            "\n"
          ]
        }
      ]
    },
    {
      "cell_type": "code",
      "metadata": {
        "id": "kCeTJBECHBhA"
      },
      "source": [
        "from tensorflow.keras.callbacks import ModelCheckpoint\n",
        "from tensorflow.keras.models import Sequential\n",
        "from tensorflow.keras.layers import Dense, Dropout, Embedding,Flatten\n",
        "from tensorflow.keras.optimizers import Adam"
      ],
      "execution_count": null,
      "outputs": []
    },
    {
      "cell_type": "code",
      "metadata": {
        "colab": {
          "base_uri": "https://localhost:8080/"
        },
        "id": "JjgFZtPdwnwa",
        "outputId": "9a095ce4-e0b7-4ffa-b41c-6c31ee773106"
      },
      "source": [
        "pip install keras-tuner --upgrade"
      ],
      "execution_count": null,
      "outputs": [
        {
          "name": "stdout",
          "output_type": "stream",
          "text": [
            "Collecting keras-tuner\n",
            "  Downloading keras_tuner-1.0.4-py3-none-any.whl (97 kB)\n",
            "\u001b[?25l\r\u001b[K     |███▍                            | 10 kB 21.1 MB/s eta 0:00:01\r\u001b[K     |██████▊                         | 20 kB 14.1 MB/s eta 0:00:01\r\u001b[K     |██████████                      | 30 kB 11.4 MB/s eta 0:00:01\r\u001b[K     |█████████████▍                  | 40 kB 4.4 MB/s eta 0:00:01\r\u001b[K     |████████████████▊               | 51 kB 5.1 MB/s eta 0:00:01\r\u001b[K     |████████████████████            | 61 kB 5.2 MB/s eta 0:00:01\r\u001b[K     |███████████████████████▍        | 71 kB 5.8 MB/s eta 0:00:01\r\u001b[K     |██████████████████████████▊     | 81 kB 4.2 MB/s eta 0:00:01\r\u001b[K     |██████████████████████████████▏ | 92 kB 4.6 MB/s eta 0:00:01\r\u001b[K     |████████████████████████████████| 97 kB 2.7 MB/s \n",
            "\u001b[?25hRequirement already satisfied: packaging in /usr/local/lib/python3.7/dist-packages (from keras-tuner) (21.0)\n",
            "Requirement already satisfied: requests in /usr/local/lib/python3.7/dist-packages (from keras-tuner) (2.23.0)\n",
            "Requirement already satisfied: scipy in /usr/local/lib/python3.7/dist-packages (from keras-tuner) (1.4.1)\n",
            "Collecting kt-legacy\n",
            "  Downloading kt_legacy-1.0.4-py3-none-any.whl (9.6 kB)\n",
            "Requirement already satisfied: numpy in /usr/local/lib/python3.7/dist-packages (from keras-tuner) (1.19.5)\n",
            "Requirement already satisfied: ipython in /usr/local/lib/python3.7/dist-packages (from keras-tuner) (5.5.0)\n",
            "Requirement already satisfied: tensorboard in /usr/local/lib/python3.7/dist-packages (from keras-tuner) (2.6.0)\n",
            "Requirement already satisfied: setuptools>=18.5 in /usr/local/lib/python3.7/dist-packages (from ipython->keras-tuner) (57.4.0)\n",
            "Requirement already satisfied: traitlets>=4.2 in /usr/local/lib/python3.7/dist-packages (from ipython->keras-tuner) (5.0.5)\n",
            "Requirement already satisfied: pygments in /usr/local/lib/python3.7/dist-packages (from ipython->keras-tuner) (2.6.1)\n",
            "Requirement already satisfied: simplegeneric>0.8 in /usr/local/lib/python3.7/dist-packages (from ipython->keras-tuner) (0.8.1)\n",
            "Requirement already satisfied: pickleshare in /usr/local/lib/python3.7/dist-packages (from ipython->keras-tuner) (0.7.5)\n",
            "Requirement already satisfied: prompt-toolkit<2.0.0,>=1.0.4 in /usr/local/lib/python3.7/dist-packages (from ipython->keras-tuner) (1.0.18)\n",
            "Requirement already satisfied: pexpect in /usr/local/lib/python3.7/dist-packages (from ipython->keras-tuner) (4.8.0)\n",
            "Requirement already satisfied: decorator in /usr/local/lib/python3.7/dist-packages (from ipython->keras-tuner) (4.4.2)\n",
            "Requirement already satisfied: six>=1.9.0 in /usr/local/lib/python3.7/dist-packages (from prompt-toolkit<2.0.0,>=1.0.4->ipython->keras-tuner) (1.15.0)\n",
            "Requirement already satisfied: wcwidth in /usr/local/lib/python3.7/dist-packages (from prompt-toolkit<2.0.0,>=1.0.4->ipython->keras-tuner) (0.2.5)\n",
            "Requirement already satisfied: ipython-genutils in /usr/local/lib/python3.7/dist-packages (from traitlets>=4.2->ipython->keras-tuner) (0.2.0)\n",
            "Requirement already satisfied: pyparsing>=2.0.2 in /usr/local/lib/python3.7/dist-packages (from packaging->keras-tuner) (2.4.7)\n",
            "Requirement already satisfied: ptyprocess>=0.5 in /usr/local/lib/python3.7/dist-packages (from pexpect->ipython->keras-tuner) (0.7.0)\n",
            "Requirement already satisfied: urllib3!=1.25.0,!=1.25.1,<1.26,>=1.21.1 in /usr/local/lib/python3.7/dist-packages (from requests->keras-tuner) (1.24.3)\n",
            "Requirement already satisfied: chardet<4,>=3.0.2 in /usr/local/lib/python3.7/dist-packages (from requests->keras-tuner) (3.0.4)\n",
            "Requirement already satisfied: idna<3,>=2.5 in /usr/local/lib/python3.7/dist-packages (from requests->keras-tuner) (2.10)\n",
            "Requirement already satisfied: certifi>=2017.4.17 in /usr/local/lib/python3.7/dist-packages (from requests->keras-tuner) (2021.5.30)\n",
            "Requirement already satisfied: tensorboard-data-server<0.7.0,>=0.6.0 in /usr/local/lib/python3.7/dist-packages (from tensorboard->keras-tuner) (0.6.1)\n",
            "Requirement already satisfied: google-auth<2,>=1.6.3 in /usr/local/lib/python3.7/dist-packages (from tensorboard->keras-tuner) (1.34.0)\n",
            "Requirement already satisfied: tensorboard-plugin-wit>=1.6.0 in /usr/local/lib/python3.7/dist-packages (from tensorboard->keras-tuner) (1.8.0)\n",
            "Requirement already satisfied: google-auth-oauthlib<0.5,>=0.4.1 in /usr/local/lib/python3.7/dist-packages (from tensorboard->keras-tuner) (0.4.5)\n",
            "Requirement already satisfied: grpcio>=1.24.3 in /usr/local/lib/python3.7/dist-packages (from tensorboard->keras-tuner) (1.39.0)\n",
            "Requirement already satisfied: markdown>=2.6.8 in /usr/local/lib/python3.7/dist-packages (from tensorboard->keras-tuner) (3.3.4)\n",
            "Requirement already satisfied: werkzeug>=0.11.15 in /usr/local/lib/python3.7/dist-packages (from tensorboard->keras-tuner) (1.0.1)\n",
            "Requirement already satisfied: wheel>=0.26 in /usr/local/lib/python3.7/dist-packages (from tensorboard->keras-tuner) (0.37.0)\n",
            "Requirement already satisfied: absl-py>=0.4 in /usr/local/lib/python3.7/dist-packages (from tensorboard->keras-tuner) (0.12.0)\n",
            "Requirement already satisfied: protobuf>=3.6.0 in /usr/local/lib/python3.7/dist-packages (from tensorboard->keras-tuner) (3.17.3)\n",
            "Requirement already satisfied: cachetools<5.0,>=2.0.0 in /usr/local/lib/python3.7/dist-packages (from google-auth<2,>=1.6.3->tensorboard->keras-tuner) (4.2.2)\n",
            "Requirement already satisfied: rsa<5,>=3.1.4 in /usr/local/lib/python3.7/dist-packages (from google-auth<2,>=1.6.3->tensorboard->keras-tuner) (4.7.2)\n",
            "Requirement already satisfied: pyasn1-modules>=0.2.1 in /usr/local/lib/python3.7/dist-packages (from google-auth<2,>=1.6.3->tensorboard->keras-tuner) (0.2.8)\n",
            "Requirement already satisfied: requests-oauthlib>=0.7.0 in /usr/local/lib/python3.7/dist-packages (from google-auth-oauthlib<0.5,>=0.4.1->tensorboard->keras-tuner) (1.3.0)\n",
            "Requirement already satisfied: importlib-metadata in /usr/local/lib/python3.7/dist-packages (from markdown>=2.6.8->tensorboard->keras-tuner) (4.6.4)\n",
            "Requirement already satisfied: pyasn1<0.5.0,>=0.4.6 in /usr/local/lib/python3.7/dist-packages (from pyasn1-modules>=0.2.1->google-auth<2,>=1.6.3->tensorboard->keras-tuner) (0.4.8)\n",
            "Requirement already satisfied: oauthlib>=3.0.0 in /usr/local/lib/python3.7/dist-packages (from requests-oauthlib>=0.7.0->google-auth-oauthlib<0.5,>=0.4.1->tensorboard->keras-tuner) (3.1.1)\n",
            "Requirement already satisfied: zipp>=0.5 in /usr/local/lib/python3.7/dist-packages (from importlib-metadata->markdown>=2.6.8->tensorboard->keras-tuner) (3.5.0)\n",
            "Requirement already satisfied: typing-extensions>=3.6.4 in /usr/local/lib/python3.7/dist-packages (from importlib-metadata->markdown>=2.6.8->tensorboard->keras-tuner) (3.7.4.3)\n",
            "Installing collected packages: kt-legacy, keras-tuner\n",
            "Successfully installed keras-tuner-1.0.4 kt-legacy-1.0.4\n"
          ]
        }
      ]
    },
    {
      "cell_type": "code",
      "metadata": {
        "colab": {
          "base_uri": "https://localhost:8080/"
        },
        "id": "yfVXy0uSCiEi",
        "outputId": "786aaed0-3b30-4d15-c47c-4ebefcccace1"
      },
      "source": [
        "#hyperparameter tuning\n",
        "\n",
        "def build_model(hp):\n",
        "    model = keras.Sequential()\n",
        "    model.add(Embedding(input_dim=MAX_WORDS+2, output_dim=EMBEDDING_DIM, weights=[embedding_matrix]\n",
        "            ,input_length=MAX_SEQUENCE_LENGTH, mask_zero=True, trainable=False))\n",
        "    model.add(Dropout(0.5))\n",
        "    model.add(Flatten())\n",
        "    model.add(layers.Dense(units=hp.Int('input_units' , min_value=64, max_value=512, step=128),input_shape= X_test[1].shape , activation='relu'))\n",
        "    \n",
        "    for i in range(hp.Int('num_layers', 1, 3)):\n",
        "        model.add(layers.Dense(units=hp.Int('units_' + str(i), min_value=64, max_value=512, step=128), activation='relu'))\n",
        "        model.add(Dropout(0.5))\n",
        "   \n",
        "    model.add(Dense(y_dev.shape[1],activation='softmax'))\n",
        "    \n",
        "    model.compile(\n",
        "        loss='categorical_crossentropy',\n",
        "        optimizer=keras.optimizers.Adam(\n",
        "            hp.Choice('learning_rate', [1e-2, 1e-3, 1e-4])),\n",
        "        metrics=[\"accuracy\"]\n",
        "    )\n",
        "    return model\n",
        "\n",
        "\n",
        "from tensorflow import keras\n",
        "from tensorflow.keras import layers\n",
        "from kerastuner.tuners import RandomSearch\n",
        "\n",
        "tuner = RandomSearch(\n",
        "    build_model,\n",
        "    objective='accuracy',\n",
        "    max_trials=40,\n",
        "    executions_per_trial=2,\n",
        "    overwrite=True )\n",
        "\n",
        "tuner.search_space_summary()\n",
        "\n"
      ],
      "execution_count": null,
      "outputs": [
        {
          "name": "stdout",
          "output_type": "stream",
          "text": [
            "Search space summary\n",
            "Default search space size: 4\n",
            "input_units (Int)\n",
            "{'default': None, 'conditions': [], 'min_value': 64, 'max_value': 512, 'step': 128, 'sampling': None}\n",
            "num_layers (Int)\n",
            "{'default': None, 'conditions': [], 'min_value': 1, 'max_value': 3, 'step': 1, 'sampling': None}\n",
            "units_0 (Int)\n",
            "{'default': None, 'conditions': [], 'min_value': 64, 'max_value': 512, 'step': 128, 'sampling': None}\n",
            "learning_rate (Choice)\n",
            "{'default': 0.01, 'conditions': [], 'values': [0.01, 0.001, 0.0001], 'ordered': True}\n"
          ]
        }
      ]
    },
    {
      "cell_type": "code",
      "metadata": {
        "colab": {
          "background_save": true,
          "base_uri": "https://localhost:8080/"
        },
        "id": "X2LNa1l7Ck62",
        "outputId": "7a64b520-be98-4730-b2d1-ba36b03c49d1"
      },
      "source": [
        "with tf.device('/device:GPU:0'):  \n",
        "    tuner.search(X_train, y_train,\n",
        "                epochs=20,\n",
        "                batch_size = 256,\n",
        "                validation_data=(X_dev, y_dev))"
      ],
      "execution_count": null,
      "outputs": [
        {
          "name": "stdout",
          "output_type": "stream",
          "text": [
            "Trial 8 Complete [00h 53m 46s]\n",
            "accuracy: 0.4978000074625015\n",
            "\n",
            "Best accuracy So Far: 0.5304000079631805\n",
            "Total elapsed time: 02h 55m 11s\n",
            "\n",
            "Search: Running Trial #9\n",
            "\n",
            "Hyperparameter    |Value             |Best Value So Far \n",
            "input_units       |192               |320               \n",
            "num_layers        |1                 |3                 \n",
            "units_0           |448               |64                \n",
            "learning_rate     |0.001             |0.001             \n",
            "units_1           |320               |64                \n",
            "units_2           |320               |64                \n",
            "\n",
            "Epoch 1/20\n",
            "235/235 [==============================] - 125s 529ms/step - loss: 2.4564 - accuracy: 0.3775 - val_loss: 1.9006 - val_accuracy: 0.4903\n",
            "Epoch 2/20\n",
            "235/235 [==============================] - 124s 527ms/step - loss: 1.8725 - accuracy: 0.4919 - val_loss: 1.7392 - val_accuracy: 0.5270\n",
            "Epoch 3/20\n",
            "235/235 [==============================] - 126s 537ms/step - loss: 1.6735 - accuracy: 0.5342 - val_loss: 1.6702 - val_accuracy: 0.5414\n",
            "Epoch 4/20\n",
            "235/235 [==============================] - ETA: 0s - loss: 1.5480 - accuracy: 0.5642"
          ]
        }
      ]
    },
    {
      "cell_type": "code",
      "metadata": {
        "id": "hbI3C2_HSJdZ"
      },
      "source": [
        "tuner.results_summary()"
      ],
      "execution_count": null,
      "outputs": []
    },
    {
      "cell_type": "code",
      "metadata": {
        "id": "BxxuV20Pm9GG"
      },
      "source": [
        "import os\n",
        "import tensorflow as tf\n",
        "from sklearn.metrics import f1_score, recall_score, precision_score\n",
        "\n",
        "class Metrics(tf.keras.callbacks.Callback):\n",
        "    def __init__(self, valid_data):\n",
        "        super(Metrics, self).__init__()\n",
        "        self.validation_data = valid_data\n",
        "\n",
        "    def on_epoch_end(self, epoch, logs=None):\n",
        "        logs = logs or {}\n",
        "        val_predict = np.argmax(self.model.predict(self.validation_data[0]), -1)\n",
        "        val_targ = self.validation_data[1]\n",
        "        \n",
        "        if len(val_targ.shape) == 2 and val_targ.shape[1] != 1:\n",
        "            val_targ = np.argmax(val_targ, -1)\n",
        "        val_targ = tf.cast(val_targ,dtype=tf.float32)\n",
        "        \n",
        "        _val_f1 = f1_score(val_targ, val_predict,average=\"weighted\")\n",
        "        _val_recall = recall_score(val_targ, val_predict,average=\"weighted\")\n",
        "        _val_precision = precision_score(val_targ, val_predict,average=\"weighted\")\n",
        "\n",
        "        logs['val_f1'] = _val_f1\n",
        "        logs['val_recall'] = _val_recall\n",
        "        logs['val_precision'] = _val_precision\n",
        "        print(\" — val_f1: %f — val_precision: %f — val_recall: %f\" % (_val_f1, _val_precision, _val_recall))\n",
        "        return"
      ],
      "execution_count": null,
      "outputs": []
    },
    {
      "cell_type": "code",
      "metadata": {
        "id": "QLdndasDBmAN"
      },
      "source": [
        ""
      ],
      "execution_count": null,
      "outputs": []
    },
    {
      "cell_type": "code",
      "metadata": {
        "colab": {
          "base_uri": "https://localhost:8080/"
        },
        "id": "CYxuNWGyBmFB",
        "outputId": "3eefcaf8-a2a7-4c1e-d48e-d50c55374f0a"
      },
      "source": [
        "word_index = tokenizer.word_index\n",
        "print('Found {} unique tokens.'.format(len(word_index)))\n",
        "\n",
        "embedding_matrix = np.zeros((MAX_WORDS+2, EMBEDDING_DIM))  # +2 (pad, unknown)\n",
        "\n",
        "for word, i in word_index.items():\n",
        "    if i > MAX_WORDS:\n",
        "            continue\n",
        "    try:\n",
        "        embedding_vector = fasttext_embed[fasttext_word_to_index[word],:]\n",
        "        embedding_matrix[i] = embedding_vector\n",
        "    except:\n",
        "        pass"
      ],
      "execution_count": null,
      "outputs": [
        {
          "name": "stdout",
          "output_type": "stream",
          "text": [
            "Found 59278 unique tokens.\n"
          ]
        }
      ]
    },
    {
      "cell_type": "code",
      "metadata": {
        "id": "gQjHir8Am9GG"
      },
      "source": [
        "\n",
        "os.environ['TF_CPP_MIN_LOG_LEVEL'] = '3'\n",
        "\n",
        "MAX_WORDS = 100000\n",
        "MAX_SEQUENCE_LENGTH = 250 \n",
        "EMBEDDING_DIM = fasttext_embed.shape[1]\n",
        "\n",
        "with tf.device('/device:GPU:0'):  \n",
        "    model = Sequential()\n",
        "    model.add(Embedding(input_dim=MAX_WORDS+2, output_dim=EMBEDDING_DIM, weights=[embedding_matrix]\n",
        "                ,input_length=MAX_SEQUENCE_LENGTH, mask_zero=True, trainable=False))\n",
        "    model.add(Dropout(0.5))\n",
        "    model.add(Flatten())\n",
        "    model.add(Dense(448, activation='relu'))\n",
        "    model.add(Dropout(0.5))\n",
        "    model.add(Dense(320,activation='relu'))\n",
        "    model.add(Dropout(0.5))\n",
        "    model.add(Dense(320,activation='relu'))\n",
        "    model.add(Dropout(0.5))\n",
        "    model.add(Dense(y_train.shape[1],activation='softmax'))\n",
        "\n",
        "    print(model.summary())\n",
        "    \n",
        "    \n",
        "    model.compile(\n",
        "        loss='categorical_crossentropy',\n",
        "        optimizer=Adam(learning_rate=0.001),\n",
        "        metrics=['accuracy'])\n",
        "    \n",
        "    \n",
        "    if not os.path.exists('./checkpoints'):\n",
        "        os.makedirs('./checkpoints')\n",
        "        \n",
        "    checkpoint = ModelCheckpoint(\n",
        "        'checkpoints/weights.hdf5',\n",
        "        monitor='val_accuracy',\n",
        "        mode='max',\n",
        "        verbose=2,\n",
        "        save_best_only=True,\n",
        "        save_weights_only=True\n",
        "    )\n",
        "    \n",
        "    history= model.fit(\n",
        "        X_train,\n",
        "        y_train,\n",
        "        validation_data= (X_dev, y_dev),\n",
        "        batch_size=256,\n",
        "        epochs=30,\n",
        "        shuffle=True,\n",
        "        callbacks=[Metrics(valid_data=(X_dev, y_dev)), checkpoint]\n",
        "    )\n",
        "\n"
      ],
      "execution_count": null,
      "outputs": []
    },
    {
      "cell_type": "code",
      "metadata": {
        "colab": {
          "base_uri": "https://localhost:8080/",
          "height": 282
        },
        "id": "YrLJY77fdBFi",
        "outputId": "7a8fef0b-e355-4dd7-aca8-2bbe7a5bdcd3"
      },
      "source": [
        "%matplotlib inline\n",
        "import matplotlib.pyplot as plt\n",
        "\n",
        "plt.plot(history.history['accuracy'])\n",
        "plt.plot(history.history['val_accuracy'])"
      ],
      "execution_count": null,
      "outputs": [
        {
          "data": {
            "text/plain": [
              "[<matplotlib.lines.Line2D at 0x7fe7d8430890>]"
            ]
          },
          "execution_count": 42,
          "metadata": {},
          "output_type": "execute_result"
        },
        {
          "data": {
            "image/png": "[encoded data removed]",
            "text/plain": [
              "<Figure size 432x288 with 1 Axes>"
            ]
          },
          "metadata": {},
          "output_type": "display_data"
        }
      ]
    },
    {
      "cell_type": "code",
      "metadata": {
        "colab": {
          "base_uri": "https://localhost:8080/"
        },
        "id": "NdzCa2RpbCt7",
        "outputId": "5dc417c4-d012-4064-b55d-db2831c636fb"
      },
      "source": [
        "import warnings\n",
        "from tensorflow.keras import backend as K\n",
        "from tensorflow.keras.models import Sequential\n",
        "from tensorflow.keras.layers import Dense\n",
        "from tensorflow.keras.optimizers import Adam\n",
        "\n",
        "with tf.device('/device:GPU:0'):\n",
        "\n",
        "    model = Sequential()\n",
        "    model.add(Embedding(input_dim=MAX_WORDS+2, output_dim=EMBEDDING_DIM, weights=[embedding_matrix]\n",
        "                ,input_length=MAX_SEQUENCE_LENGTH, mask_zero=True, trainable=False))\n",
        "    model.add(Dropout(0.5))\n",
        "    model.add(Flatten())\n",
        "    model.add(Dense(448, activation='relu'))\n",
        "    model.add(Dropout(0.5))\n",
        "    model.add(Dense(320,activation='relu'))\n",
        "    model.add(Dropout(0.5))\n",
        "    model.add(Dense(320,activation='relu'))\n",
        "    model.add(Dropout(0.5))\n",
        "    model.add(Dense(y_train.shape[1],activation='softmax'))\n",
        "\n",
        "\n",
        "    # Load weights from the pre-trained model\n",
        "    model.load_weights(\"checkpoints/weights.hdf5\")\n",
        "\n",
        "    model.compile(\n",
        "        loss='categorical_crossentropy',\n",
        "        optimizer=Adam(learning_rate=0.001),\n",
        "        metrics=[\"categorical_crossentropy\"]\n",
        "    )\n",
        "\n",
        "    print(\"Classification report on the training data:\")\n",
        "    predictions_train = model.predict(X_train)\n",
        "    predictions_train = (predictions_train > 0.5).astype(int)   \n",
        "    print(classification_report(y_train, predictions_train, target_names=lb.classes_))\n",
        "\n",
        "    print(\"Classification report on the development data:\")\n",
        "    predictions_dev = model.predict(X_dev)\n",
        "    predictions_dev = (predictions_dev > 0.5).astype(int) \n",
        "    print(classification_report(y_dev, predictions_dev, target_names=lb.classes_))\n",
        "\n",
        "    print(\"Classification report on the test data:\")\n",
        "    predictions_test = model.predict(X_test)\n",
        "    predictions_test = (predictions_test > 0.5).astype(int)    \n",
        "    print(classification_report(y_test, predictions_test, target_names=lb.classes_))"
      ],
      "execution_count": null,
      "outputs": [
        {
          "name": "stdout",
          "output_type": "stream",
          "text": [
            "Classification report on the training data:\n"
          ]
        },
        {
          "name": "stderr",
          "output_type": "stream",
          "text": [
            "/usr/local/lib/python3.7/dist-packages/sklearn/metrics/_classification.py:1272: UndefinedMetricWarning: Precision and F-score are ill-defined and being set to 0.0 in labels with no predicted samples. Use `zero_division` parameter to control this behavior.\n",
            "  _warn_prf(average, modifier, msg_start, len(result))\n",
            "/usr/local/lib/python3.7/dist-packages/sklearn/metrics/_classification.py:1272: UndefinedMetricWarning: Precision and F-score are ill-defined and being set to 0.0 in samples with no predicted labels. Use `zero_division` parameter to control this behavior.\n",
            "  _warn_prf(average, modifier, msg_start, len(result))\n"
          ]
        },
        {
          "name": "stdout",
          "output_type": "stream",
          "text": [
            "                precision    recall  f1-score   support\n",
            "\n",
            "          ARTS       0.95      0.37      0.53       468\n",
            "ARTS & CULTURE       0.00      0.00      0.00       394\n",
            "  BLACK VOICES       1.00      0.11      0.19      1313\n",
            "      BUSINESS       0.96      0.46      0.62      1747\n",
            "       COLLEGE       0.83      0.01      0.03       348\n",
            "        COMEDY       0.88      0.38      0.53      1591\n",
            "         CRIME       0.92      0.64      0.76      1065\n",
            "CULTURE & ARTS       0.91      0.38      0.54       320\n",
            "       DIVORCE       0.92      0.79      0.85      1017\n",
            "     EDUCATION       0.96      0.07      0.14       294\n",
            " ENTERTAINMENT       0.89      0.69      0.78      4743\n",
            "   ENVIRONMENT       1.00      0.31      0.48       408\n",
            "         FIFTY       1.00      0.22      0.37       412\n",
            "  FOOD & DRINK       0.77      0.89      0.83      1873\n",
            "     GOOD NEWS       0.00      0.00      0.00       416\n",
            "         GREEN       0.87      0.39      0.54       813\n",
            "HEALTHY LIVING       0.90      0.33      0.49      1947\n",
            " HOME & LIVING       0.98      0.85      0.91      1253\n",
            "        IMPACT       0.99      0.19      0.32      1037\n",
            " LATINO VOICES       0.00      0.00      0.00       326\n",
            "         MEDIA       0.94      0.27      0.41       855\n",
            "         MONEY       0.94      0.49      0.64       516\n",
            "     PARENTING       0.86      0.66      0.74      2503\n",
            "       PARENTS       0.90      0.13      0.22      1189\n",
            "      POLITICS       0.94      0.83      0.88      9856\n",
            "  QUEER VOICES       0.93      0.62      0.75      1866\n",
            "      RELIGION       0.96      0.46      0.63       751\n",
            "       SCIENCE       0.98      0.49      0.65       668\n",
            "        SPORTS       0.95      0.81      0.87      1450\n",
            "         STYLE       0.90      0.47      0.62       680\n",
            "STYLE & BEAUTY       0.97      0.92      0.94      2825\n",
            "         TASTE       1.00      0.00      0.00       635\n",
            "          TECH       0.97      0.42      0.59       639\n",
            " THE WORLDPOST       0.68      0.58      0.63      1110\n",
            "        TRAVEL       0.99      0.86      0.92      2933\n",
            "      WEDDINGS       0.98      0.79      0.87      1122\n",
            "    WEIRD NEWS       0.82      0.09      0.16       786\n",
            "      WELLNESS       0.90      0.85      0.88      5383\n",
            "         WOMEN       0.98      0.10      0.17      1074\n",
            "    WORLD NEWS       0.00      0.00      0.00       650\n",
            "     WORLDPOST       0.96      0.61      0.75       724\n",
            "\n",
            "     micro avg       0.92      0.61      0.73     60000\n",
            "     macro avg       0.84      0.43      0.52     60000\n",
            "  weighted avg       0.90      0.61      0.69     60000\n",
            "   samples avg       0.61      0.61      0.61     60000\n",
            "\n",
            "Classification report on the development data:\n",
            "                precision    recall  f1-score   support\n",
            "\n",
            "          ARTS       0.57      0.08      0.15       143\n",
            "ARTS & CULTURE       0.00      0.00      0.00       129\n",
            "  BLACK VOICES       0.67      0.01      0.03       465\n",
            "      BUSINESS       0.67      0.16      0.26       611\n",
            "       COLLEGE       0.00      0.00      0.00       134\n",
            "        COMEDY       0.76      0.19      0.30       528\n",
            "         CRIME       0.59      0.30      0.40       318\n",
            "CULTURE & ARTS       0.57      0.04      0.08        93\n",
            "       DIVORCE       0.75      0.42      0.54       356\n",
            "     EDUCATION       0.50      0.01      0.02        91\n",
            " ENTERTAINMENT       0.69      0.45      0.54      1602\n",
            "   ENVIRONMENT       0.89      0.06      0.12       127\n",
            "         FIFTY       0.40      0.02      0.03       128\n",
            "  FOOD & DRINK       0.66      0.64      0.65       585\n",
            "     GOOD NEWS       0.00      0.00      0.00       177\n",
            "         GREEN       0.47      0.12      0.19       252\n",
            "HEALTHY LIVING       0.63      0.13      0.22       674\n",
            " HOME & LIVING       0.88      0.52      0.65       431\n",
            "        IMPACT       0.36      0.01      0.03       357\n",
            " LATINO VOICES       0.00      0.00      0.00       103\n",
            "         MEDIA       0.58      0.08      0.15       262\n",
            "         MONEY       0.62      0.14      0.23       186\n",
            "     PARENTING       0.65      0.34      0.45       910\n",
            "       PARENTS       0.67      0.07      0.13       395\n",
            "      POLITICS       0.80      0.65      0.72      3183\n",
            "  QUEER VOICES       0.85      0.38      0.53       613\n",
            "      RELIGION       0.85      0.16      0.27       286\n",
            "       SCIENCE       0.80      0.17      0.28       198\n",
            "        SPORTS       0.78      0.49      0.60       507\n",
            "         STYLE       0.71      0.24      0.36       226\n",
            "STYLE & BEAUTY       0.81      0.67      0.73       952\n",
            "         TASTE       0.00      0.00      0.00       202\n",
            "          TECH       0.62      0.15      0.24       192\n",
            " THE WORLDPOST       0.61      0.36      0.45       374\n",
            "        TRAVEL       0.84      0.53      0.65      1041\n",
            "      WEDDINGS       0.86      0.52      0.65       378\n",
            "    WEIRD NEWS       0.47      0.03      0.05       277\n",
            "      WELLNESS       0.68      0.51      0.58      1718\n",
            "         WOMEN       0.79      0.03      0.06       331\n",
            "    WORLD NEWS       0.00      0.00      0.00       198\n",
            "     WORLDPOST       0.65      0.29      0.40       267\n",
            "\n",
            "     micro avg       0.74      0.38      0.50     20000\n",
            "     macro avg       0.58      0.22      0.29     20000\n",
            "  weighted avg       0.68      0.38      0.45     20000\n",
            "   samples avg       0.38      0.38      0.38     20000\n",
            "\n",
            "Classification report on the test data:\n",
            "                precision    recall  f1-score   support\n",
            "\n",
            "          ARTS       0.64      0.06      0.11       149\n",
            "ARTS & CULTURE       0.00      0.00      0.00       145\n",
            "  BLACK VOICES       0.57      0.01      0.02       442\n",
            "      BUSINESS       0.63      0.15      0.24       617\n",
            "       COLLEGE       0.00      0.00      0.00       118\n",
            "        COMEDY       0.67      0.19      0.29       510\n",
            "         CRIME       0.61      0.32      0.42       337\n",
            "CULTURE & ARTS       0.33      0.01      0.02       103\n",
            "       DIVORCE       0.78      0.49      0.60       375\n",
            "     EDUCATION       0.00      0.00      0.00       110\n",
            " ENTERTAINMENT       0.70      0.44      0.54      1573\n",
            "   ENVIRONMENT       1.00      0.06      0.12       131\n",
            "         FIFTY       0.60      0.02      0.04       140\n",
            "  FOOD & DRINK       0.65      0.63      0.64       607\n",
            "     GOOD NEWS       0.00      0.00      0.00       144\n",
            "         GREEN       0.38      0.10      0.16       256\n",
            "HEALTHY LIVING       0.51      0.11      0.18       646\n",
            " HOME & LIVING       0.82      0.46      0.59       414\n",
            "        IMPACT       0.40      0.02      0.03       350\n",
            " LATINO VOICES       0.00      0.00      0.00       121\n",
            "         MEDIA       0.52      0.05      0.09       286\n",
            "         MONEY       0.53      0.12      0.19       151\n",
            "     PARENTING       0.60      0.31      0.41       899\n",
            "       PARENTS       0.55      0.05      0.10       387\n",
            "      POLITICS       0.79      0.63      0.70      3276\n",
            "  QUEER VOICES       0.79      0.40      0.54       657\n",
            "      RELIGION       0.73      0.15      0.25       233\n",
            "       SCIENCE       0.82      0.22      0.34       213\n",
            "        SPORTS       0.77      0.45      0.57       510\n",
            "         STYLE       0.62      0.23      0.33       231\n",
            "STYLE & BEAUTY       0.79      0.65      0.71       973\n",
            "         TASTE       0.00      0.00      0.00       211\n",
            "          TECH       0.62      0.12      0.20       204\n",
            " THE WORLDPOST       0.57      0.34      0.43       355\n",
            "        TRAVEL       0.81      0.53      0.64       943\n",
            "      WEDDINGS       0.84      0.45      0.59       353\n",
            "    WEIRD NEWS       0.48      0.04      0.07       260\n",
            "      WELLNESS       0.69      0.53      0.60      1765\n",
            "         WOMEN       0.85      0.05      0.09       346\n",
            "    WORLD NEWS       0.00      0.00      0.00       204\n",
            "     WORLDPOST       0.61      0.24      0.34       255\n",
            "\n",
            "     micro avg       0.73      0.37      0.49     20000\n",
            "     macro avg       0.54      0.21      0.27     20000\n",
            "  weighted avg       0.66      0.37      0.44     20000\n",
            "   samples avg       0.37      0.37      0.37     20000\n",
            "\n"
          ]
        }
      ]
    },
    {
      "cell_type": "code",
      "metadata": {
        "id": "xTJXB2A6xchb"
      },
      "source": [
        ""
      ],
      "execution_count": null,
      "outputs": []
    }
  ]
}